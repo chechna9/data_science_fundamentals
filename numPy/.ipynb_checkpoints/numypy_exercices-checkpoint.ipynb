{
 "cells": [
  {
   "cell_type": "code",
   "execution_count": 5,
   "id": "2b8b82f9",
   "metadata": {},
   "outputs": [],
   "source": [
    "import numpy as np\n",
    "import matplotlib.pyplot as plt\n",
    "import pandas as pd"
   ]
  },
  {
   "cell_type": "markdown",
   "id": "ad7dbeec",
   "metadata": {},
   "source": [
    "### Exercice 1"
   ]
  },
  {
   "cell_type": "code",
   "execution_count": 6,
   "id": "f5952c00",
   "metadata": {},
   "outputs": [],
   "source": [
    "V = [0.5,0.8,0.9]\n",
    "M =  [[1.0, 0.3, 0.65],[ 0.5, 0.8, 0.9],[ 1.0, 0.3, 0.65]]"
   ]
  },
  {
   "cell_type": "code",
   "execution_count": 7,
   "id": "1408b783",
   "metadata": {},
   "outputs": [],
   "source": [
    "# create vector V , and matrix M\n",
    "V= np.array(V)\n",
    "M = np.array(M)"
   ]
  },
  {
   "cell_type": "code",
   "execution_count": 8,
   "id": "1d2db23d",
   "metadata": {},
   "outputs": [],
   "source": [
    "#create M transpose and G = Mt*M\n",
    "Mt = np.transpose(M)\n",
    "# @ matrix product * elementwhise product\n",
    "# or using M.dot()\n",
    "G = Mt@M\n",
    "# G = Mt.dot(M)"
   ]
  },
  {
   "cell_type": "code",
   "execution_count": 9,
   "id": "da5762d6",
   "metadata": {},
   "outputs": [
    {
     "name": "stdout",
     "output_type": "stream",
     "text": [
      "[[1.   0.5  1.  ]\n",
      " [0.3  0.8  0.3 ]\n",
      " [0.65 0.9  0.65]]\n",
      "[[1.   0.3  0.65]\n",
      " [0.5  0.8  0.9 ]\n",
      " [1.   0.3  0.65]]\n",
      "[[2.25  1.    1.75 ]\n",
      " [1.    0.82  1.11 ]\n",
      " [1.75  1.11  1.655]]\n"
     ]
    }
   ],
   "source": [
    "print(Mt)\n",
    "print(M)\n",
    "print(G)"
   ]
  },
  {
   "cell_type": "code",
   "execution_count": 10,
   "id": "45f4f90d",
   "metadata": {},
   "outputs": [
    {
     "name": "stdout",
     "output_type": "stream",
     "text": [
      "vect1\n",
      " [[1. ]\n",
      " [0.5]\n",
      " [1. ]]\n",
      "max vect1 1.0\n",
      "min vect1 0.5\n",
      "sum vect1 2.5\n",
      "avg vect1 0.8333333333333334\n"
     ]
    }
   ],
   "source": [
    "# extract vector 1 then max , min , sum , avg\n",
    "vect1 = M[:,0]\n",
    "vect1=vect1.reshape((-1,1))\n",
    "print(f'vect1\\n {vect1}')\n",
    "max_vect1 = vect1.max()\n",
    "print(f'max vect1 {max_vect1}')\n",
    "min_vect1 = vect1.min()\n",
    "print(f'min vect1 {min_vect1}')\n",
    "sum_vect1 = vect1.sum()\n",
    "print(f'sum vect1 {sum_vect1}')\n",
    "avg_vect1 = vect1.mean()\n",
    "print(f'avg vect1 {avg_vect1}')"
   ]
  },
  {
   "cell_type": "code",
   "execution_count": 11,
   "id": "b6f22215",
   "metadata": {},
   "outputs": [
    {
     "name": "stdout",
     "output_type": "stream",
     "text": [
      "row1\n",
      " [[1.  ]\n",
      " [0.3 ]\n",
      " [0.65]]\n",
      "max row1 1.0\n",
      "min row1 0.3\n",
      "sum row1 1.9500000000000002\n",
      "avg row1 0.65\n"
     ]
    }
   ],
   "source": [
    "# extract row 1 then max , min , sum , avg\n",
    "row1 = M[0,:]\n",
    "row1=row1.reshape((-1,1))\n",
    "print(f'row1\\n {row1}')\n",
    "max_row1 = row1.max()\n",
    "print(f'max row1 {max_row1}')\n",
    "min_row1 = row1.min()\n",
    "print(f'min row1 {min_row1}')\n",
    "sum_row1 = row1.sum()\n",
    "print(f'sum row1 {sum_row1}')\n",
    "avg_row1 = row1.mean()\n",
    "print(f'avg row1 {avg_row1}')"
   ]
  },
  {
   "cell_type": "code",
   "execution_count": 12,
   "id": "04695fc5",
   "metadata": {},
   "outputs": [
    {
     "name": "stdout",
     "output_type": "stream",
     "text": [
      "row1\n",
      " [[1.  0.3]\n",
      " [0.5 0.8]]\n",
      "max subM 1.0\n",
      "min subM 0.3\n",
      "sum subM 2.6\n",
      "avg subM 0.65\n"
     ]
    }
   ],
   "source": [
    "# extractsub matrix (0-2,0-2) then max , min , sum , avg\n",
    "subM = M[:2,:2]\n",
    "print(f'row1\\n {subM}')\n",
    "max_subM = subM.max()\n",
    "print(f'max subM {max_subM}')\n",
    "min_subM = subM.min()\n",
    "print(f'min subM {min_subM}')\n",
    "sum_subM = subM.sum()\n",
    "print(f'sum subM {sum_subM}')\n",
    "avg_subM = subM.mean()\n",
    "print(f'avg subM {avg_subM}')"
   ]
  },
  {
   "cell_type": "markdown",
   "id": "57f9b75b",
   "metadata": {},
   "source": [
    "Extract from M: (a) diagonal matrix. (b) identity matrix, (c) values bigger than 0.5."
   ]
  },
  {
   "cell_type": "code",
   "execution_count": 13,
   "id": "4a317977",
   "metadata": {},
   "outputs": [
    {
     "data": {
      "text/plain": [
       "array([[1.  , 0.  , 0.  ],\n",
       "       [0.  , 0.8 , 0.  ],\n",
       "       [0.  , 0.  , 0.65]])"
      ]
     },
     "execution_count": 13,
     "metadata": {},
     "output_type": "execute_result"
    }
   ],
   "source": [
    "diagM = np.diag(M.diagonal())\n",
    "diagM"
   ]
  },
  {
   "cell_type": "code",
   "execution_count": 14,
   "id": "1c71960b",
   "metadata": {},
   "outputs": [
    {
     "data": {
      "text/plain": [
       "array([[1., 0., 0.],\n",
       "       [0., 1., 0.],\n",
       "       [0., 0., 1.]])"
      ]
     },
     "execution_count": 14,
     "metadata": {},
     "output_type": "execute_result"
    }
   ],
   "source": [
    "idM = np.identity(M.shape[0])\n",
    "idM"
   ]
  },
  {
   "cell_type": "code",
   "execution_count": 15,
   "id": "f577bc0d",
   "metadata": {},
   "outputs": [
    {
     "data": {
      "text/plain": [
       "array([1.  , 0.65, 0.8 , 0.9 , 1.  , 0.65])"
      ]
     },
     "execution_count": 15,
     "metadata": {},
     "output_type": "execute_result"
    }
   ],
   "source": [
    "valsSup =M[ M > 0.5]\n",
    "valsSup"
   ]
  },
  {
   "cell_type": "markdown",
   "id": "9ef25db1",
   "metadata": {},
   "source": [
    "Insert a new row to M, and then insert a new column to M using random values.\n"
   ]
  },
  {
   "cell_type": "code",
   "execution_count": 16,
   "id": "2fcabaef",
   "metadata": {},
   "outputs": [
    {
     "name": "stdout",
     "output_type": "stream",
     "text": [
      "[[0.99264802 0.42430295 0.40258438]]\n",
      "[[1.         0.3        0.65      ]\n",
      " [0.5        0.8        0.9       ]\n",
      " [1.         0.3        0.65      ]\n",
      " [0.99264802 0.42430295 0.40258438]]\n"
     ]
    }
   ],
   "source": [
    "# inserting the row\n",
    "rowtoInsert = np.random.rand(M.shape[1])\n",
    "# reshape to add\n",
    "rowtoInsert = rowtoInsert.reshape(1,-1)\n",
    "print(rowtoInsert)\n",
    "M = np.append(M,rowtoInsert,axis=0)\n",
    "print(M)"
   ]
  },
  {
   "cell_type": "code",
   "execution_count": 17,
   "id": "d3b47be1",
   "metadata": {},
   "outputs": [
    {
     "name": "stdout",
     "output_type": "stream",
     "text": [
      "[[0.57607285]\n",
      " [0.76375385]\n",
      " [0.02051217]\n",
      " [0.54416903]]\n",
      "[[1.         0.3        0.65       0.57607285]\n",
      " [0.5        0.8        0.9        0.76375385]\n",
      " [1.         0.3        0.65       0.02051217]\n",
      " [0.99264802 0.42430295 0.40258438 0.54416903]]\n"
     ]
    }
   ],
   "source": [
    "# inserting the col\n",
    "coltoInsert = np.random.rand(M.shape[0])\n",
    "# reshape to add\n",
    "coltoInsert = coltoInsert.reshape(-1,1)\n",
    "print(coltoInsert)\n",
    "M = np.append(M,coltoInsert,axis=1)\n",
    "print(M)"
   ]
  },
  {
   "cell_type": "markdown",
   "id": "6b42f50e",
   "metadata": {},
   "source": [
    "Calculate Euclidean distance of each two vectors of M using G."
   ]
  },
  {
   "cell_type": "code",
   "execution_count": 18,
   "id": "7a370e8b",
   "metadata": {},
   "outputs": [],
   "source": [
    "# i couldnt figure how to do it using G\n",
    "def euclDist(v1,v2):\n",
    "    squared_diff = np.square(np.array(v1)-np.array(v2))\n",
    "    result = np.sqrt(squared_diff.sum())\n",
    "    return result"
   ]
  },
  {
   "cell_type": "code",
   "execution_count": 19,
   "id": "32c8cc3a",
   "metadata": {},
   "outputs": [
    {
     "name": "stdout",
     "output_type": "stream",
     "text": [
      "distance vetween v0 and v0 0.0\n",
      "distance vetween v0 and v1 0.7731262250058678\n",
      "distance vetween v0 and v2 0.5555606791282007\n",
      "distance vetween v0 and v3 0.27881466462502497\n",
      "distance vetween v1 and v0 0.7731262250058678\n",
      "distance vetween v1 and v1 0.0\n",
      "distance vetween v1 and v2 1.055892135417079\n",
      "distance vetween v1 and v3 0.82431191462125\n",
      "distance vetween v2 and v0 0.5555606791282007\n",
      "distance vetween v2 and v1 1.055892135417079\n",
      "distance vetween v2 and v2 0.0\n",
      "distance vetween v2 and v3 0.5923987491234564\n",
      "distance vetween v3 and v0 0.27881466462502497\n",
      "distance vetween v3 and v1 0.82431191462125\n",
      "distance vetween v3 and v2 0.5923987491234564\n",
      "distance vetween v3 and v3 0.0\n"
     ]
    }
   ],
   "source": [
    "v1_indice = 0 \n",
    "v2_indice = 0\n",
    "for v1 in M :\n",
    "    v2_indice = 0\n",
    "    for v2 in M :\n",
    "        print(f'distance vetween v{v1_indice} and v{v2_indice} {euclDist(v1,v2)}')\n",
    "        v2_indice = v2_indice +1\n",
    "    v1_indice = v1_indice + 1 \n",
    "        "
   ]
  },
  {
   "cell_type": "markdown",
   "id": "f4935490",
   "metadata": {},
   "source": [
    "Verify if V is in M."
   ]
  },
  {
   "cell_type": "code",
   "execution_count": 20,
   "id": "2444aaed",
   "metadata": {},
   "outputs": [],
   "source": [
    "def vInM(M,V):\n",
    "    return V in M.tolist()\n"
   ]
  },
  {
   "cell_type": "code",
   "execution_count": 21,
   "id": "64a9c465",
   "metadata": {},
   "outputs": [
    {
     "data": {
      "text/plain": [
       "array([ 0.        ,  1.22222222,  2.44444444,  3.66666667,  4.88888889,\n",
       "        6.11111111,  7.33333333,  8.55555556,  9.77777778, 11.        ])"
      ]
     },
     "execution_count": 21,
     "metadata": {},
     "output_type": "execute_result"
    }
   ],
   "source": [
    "X = np.linspace(0,11,num=10)\n",
    "X"
   ]
  },
  {
   "cell_type": "code",
   "execution_count": 22,
   "id": "fda33d12",
   "metadata": {},
   "outputs": [
    {
     "data": {
      "text/plain": [
       "array([ 4.        ,  5.92962963,  7.94074074, 10.03333333, 12.20740741,\n",
       "       14.46296296, 16.8       , 19.21851852, 21.71851852, 24.3       ])"
      ]
     },
     "execution_count": 22,
     "metadata": {},
     "output_type": "execute_result"
    }
   ],
   "source": [
    "a = np.linspace(1.5,1.8,10)\n",
    "b = np.linspace(4,4.5,10)\n",
    "Y = a * X + b\n",
    "Y"
   ]
  },
  {
   "cell_type": "code",
   "execution_count": 23,
   "id": "19368dcf",
   "metadata": {},
   "outputs": [
    {
     "data": {
      "text/plain": [
       "[<matplotlib.lines.Line2D at 0x29f7e739880>]"
      ]
     },
     "execution_count": 23,
     "metadata": {},
     "output_type": "execute_result"
    },
    {
     "data": {
      "image/png": "[encoded data removed]",
      "text/plain": [
       "<Figure size 432x288 with 1 Axes>"
      ]
     },
     "metadata": {
      "needs_background": "light"
     },
     "output_type": "display_data"
    }
   ],
   "source": [
    "plt.plot(X,Y)"
   ]
  },
  {
   "cell_type": "code",
   "execution_count": 24,
   "id": "025990aa",
   "metadata": {},
   "outputs": [],
   "source": [
    "# TODO: check n in a submatrix of M"
   ]
  },
  {
   "cell_type": "markdown",
   "id": "398a27b7",
   "metadata": {},
   "source": [
    "Create matrix of size (5,5) containing: (a) ones, (b) zeros, and (c) random values."
   ]
  },
  {
   "cell_type": "code",
   "execution_count": 25,
   "id": "2541a330",
   "metadata": {},
   "outputs": [
    {
     "name": "stdout",
     "output_type": "stream",
     "text": [
      "[[1. 1. 1. 1. 1.]\n",
      " [1. 1. 1. 1. 1.]\n",
      " [1. 1. 1. 1. 1.]\n",
      " [1. 1. 1. 1. 1.]\n",
      " [1. 1. 1. 1. 1.]]\n",
      "[[0. 0. 0. 0. 0.]\n",
      " [0. 0. 0. 0. 0.]\n",
      " [0. 0. 0. 0. 0.]\n",
      " [0. 0. 0. 0. 0.]\n",
      " [0. 0. 0. 0. 0.]]\n",
      "[[0.5203593  0.69193177 0.29922952 0.76667918 0.12435115]\n",
      " [0.29376669 0.89712216 0.85924626 0.80079269 0.56729518]\n",
      " [0.55034193 0.13931046 0.63354756 0.71481832 0.96185146]\n",
      " [0.62469758 0.15300556 0.48150216 0.491738   0.29177848]\n",
      " [0.39158325 0.17824579 0.80124162 0.82224572 0.82155415]]\n"
     ]
    }
   ],
   "source": [
    "five1five = np.ones([5,5])\n",
    "print(five1five)\n",
    "five0five = np.zeros([5,5])\n",
    "print(five0five)\n",
    "fiveRNDfive = np.random.rand(5,5)\n",
    "print(fiveRNDfive)"
   ]
  },
  {
   "cell_type": "markdown",
   "id": "3ac5a424",
   "metadata": {},
   "source": [
    "### Exercice 2"
   ]
  },
  {
   "cell_type": "code",
   "execution_count": 26,
   "id": "5176e74a",
   "metadata": {},
   "outputs": [],
   "source": [
    "#calculate maclaurin series\n",
    "def expoTaylor(x,n):\n",
    "    arr = np.array([(x**i)/np.math.factorial(i) for i in range(n)])\n",
    "    return arr.sum()"
   ]
  },
  {
   "cell_type": "code",
   "execution_count": 27,
   "id": "75efff18",
   "metadata": {},
   "outputs": [
    {
     "name": "stdout",
     "output_type": "stream",
     "text": [
      "54.598150033144236\n",
      "54.59706179769672\n"
     ]
    }
   ],
   "source": [
    "x=4\n",
    "n=15\n",
    "print(np.exp(x))\n",
    "print(expoTaylor(x,n))"
   ]
  },
  {
   "cell_type": "markdown",
   "id": "97a5e140",
   "metadata": {},
   "source": [
    "### Exercice 3"
   ]
  },
  {
   "cell_type": "code",
   "execution_count": 28,
   "id": "bcf33450",
   "metadata": {},
   "outputs": [
    {
     "data": {
      "text/html": [
       "<div>\n",
       "<style scoped>\n",
       "    .dataframe tbody tr th:only-of-type {\n",
       "        vertical-align: middle;\n",
       "    }\n",
       "\n",
       "    .dataframe tbody tr th {\n",
       "        vertical-align: top;\n",
       "    }\n",
       "\n",
       "    .dataframe thead th {\n",
       "        text-align: right;\n",
       "    }\n",
       "</style>\n",
       "<table border=\"1\" class=\"dataframe\">\n",
       "  <thead>\n",
       "    <tr style=\"text-align: right;\">\n",
       "      <th></th>\n",
       "      <th>UserId</th>\n",
       "      <th>ProductId</th>\n",
       "      <th>Rating</th>\n",
       "      <th>Timestamp</th>\n",
       "    </tr>\n",
       "  </thead>\n",
       "  <tbody>\n",
       "    <tr>\n",
       "      <th>0</th>\n",
       "      <td>A39HTATAQ9V7YF</td>\n",
       "      <td>0205616461</td>\n",
       "      <td>5.0</td>\n",
       "      <td>1369699200</td>\n",
       "    </tr>\n",
       "    <tr>\n",
       "      <th>1</th>\n",
       "      <td>A3JM6GV9MNOF9X</td>\n",
       "      <td>0558925278</td>\n",
       "      <td>3.0</td>\n",
       "      <td>1355443200</td>\n",
       "    </tr>\n",
       "    <tr>\n",
       "      <th>2</th>\n",
       "      <td>A1Z513UWSAAO0F</td>\n",
       "      <td>0558925278</td>\n",
       "      <td>5.0</td>\n",
       "      <td>1404691200</td>\n",
       "    </tr>\n",
       "    <tr>\n",
       "      <th>3</th>\n",
       "      <td>A1WMRR494NWEWV</td>\n",
       "      <td>0733001998</td>\n",
       "      <td>4.0</td>\n",
       "      <td>1382572800</td>\n",
       "    </tr>\n",
       "    <tr>\n",
       "      <th>4</th>\n",
       "      <td>A3IAAVS479H7M7</td>\n",
       "      <td>0737104473</td>\n",
       "      <td>1.0</td>\n",
       "      <td>1274227200</td>\n",
       "    </tr>\n",
       "    <tr>\n",
       "      <th>...</th>\n",
       "      <td>...</td>\n",
       "      <td>...</td>\n",
       "      <td>...</td>\n",
       "      <td>...</td>\n",
       "    </tr>\n",
       "    <tr>\n",
       "      <th>2023065</th>\n",
       "      <td>A3DEHKPFANB8VA</td>\n",
       "      <td>B00LORWRJA</td>\n",
       "      <td>5.0</td>\n",
       "      <td>1405296000</td>\n",
       "    </tr>\n",
       "    <tr>\n",
       "      <th>2023066</th>\n",
       "      <td>A3DEHKPFANB8VA</td>\n",
       "      <td>B00LOS7MEE</td>\n",
       "      <td>5.0</td>\n",
       "      <td>1405296000</td>\n",
       "    </tr>\n",
       "    <tr>\n",
       "      <th>2023067</th>\n",
       "      <td>AG9TJLJUN5OM3</td>\n",
       "      <td>B00LP2YB8E</td>\n",
       "      <td>5.0</td>\n",
       "      <td>1405382400</td>\n",
       "    </tr>\n",
       "    <tr>\n",
       "      <th>2023068</th>\n",
       "      <td>AYBIB14QOI9PC</td>\n",
       "      <td>B00LPVG6V0</td>\n",
       "      <td>5.0</td>\n",
       "      <td>1405555200</td>\n",
       "    </tr>\n",
       "    <tr>\n",
       "      <th>2023069</th>\n",
       "      <td>A1PB6OT0OOPKNQ</td>\n",
       "      <td>B00LU0LTOU</td>\n",
       "      <td>5.0</td>\n",
       "      <td>1405641600</td>\n",
       "    </tr>\n",
       "  </tbody>\n",
       "</table>\n",
       "<p>2023070 rows × 4 columns</p>\n",
       "</div>"
      ],
      "text/plain": [
       "                 UserId   ProductId  Rating   Timestamp\n",
       "0        A39HTATAQ9V7YF  0205616461     5.0  1369699200\n",
       "1        A3JM6GV9MNOF9X  0558925278     3.0  1355443200\n",
       "2        A1Z513UWSAAO0F  0558925278     5.0  1404691200\n",
       "3        A1WMRR494NWEWV  0733001998     4.0  1382572800\n",
       "4        A3IAAVS479H7M7  0737104473     1.0  1274227200\n",
       "...                 ...         ...     ...         ...\n",
       "2023065  A3DEHKPFANB8VA  B00LORWRJA     5.0  1405296000\n",
       "2023066  A3DEHKPFANB8VA  B00LOS7MEE     5.0  1405296000\n",
       "2023067   AG9TJLJUN5OM3  B00LP2YB8E     5.0  1405382400\n",
       "2023068   AYBIB14QOI9PC  B00LPVG6V0     5.0  1405555200\n",
       "2023069  A1PB6OT0OOPKNQ  B00LU0LTOU     5.0  1405641600\n",
       "\n",
       "[2023070 rows x 4 columns]"
      ]
     },
     "execution_count": 28,
     "metadata": {},
     "output_type": "execute_result"
    }
   ],
   "source": [
    "data = pd.read_csv('./ratings_Beauty.csv')\n",
    "data"
   ]
  },
  {
   "cell_type": "code",
   "execution_count": 29,
   "id": "e6376074",
   "metadata": {},
   "outputs": [],
   "source": [
    "# Filter rows to pick up the 10 highest sold products\n",
    "numberOfSales=data.groupby('ProductId').UserId.count()"
   ]
  },
  {
   "cell_type": "code",
   "execution_count": 30,
   "id": "95aba736",
   "metadata": {
    "scrolled": true
   },
   "outputs": [
    {
     "data": {
      "text/plain": [
       "ProductId\n",
       "B001MA0QY2    7533\n",
       "B0009V1YR8    2869\n",
       "B0043OYFKU    2477\n",
       "B0000YUXI0    2143\n",
       "B003V265QW    2088\n",
       "B000ZMBSPE    2041\n",
       "B003BQ6QXK    1918\n",
       "B004OHQR1Q    1885\n",
       "B00121UVU0    1838\n",
       "B000FS05VG    1589\n",
       "Name: UserId, dtype: int64"
      ]
     },
     "execution_count": 30,
     "metadata": {},
     "output_type": "execute_result"
    }
   ],
   "source": [
    "top10=numberOfSales.sort_values(ascending=False).iloc[:10]\n",
    "top10"
   ]
  },
  {
   "cell_type": "code",
   "execution_count": 31,
   "id": "5aa657c0",
   "metadata": {},
   "outputs": [
    {
     "data": {
      "text/plain": [
       "Index(['B001MA0QY2', 'B0009V1YR8', 'B0043OYFKU', 'B0000YUXI0', 'B003V265QW',\n",
       "       'B000ZMBSPE', 'B003BQ6QXK', 'B004OHQR1Q', 'B00121UVU0', 'B000FS05VG'],\n",
       "      dtype='object', name='ProductId')"
      ]
     },
     "execution_count": 31,
     "metadata": {},
     "output_type": "execute_result"
    }
   ],
   "source": [
    "top10.index"
   ]
  },
  {
   "cell_type": "code",
   "execution_count": 32,
   "id": "0137ae40",
   "metadata": {},
   "outputs": [
    {
     "data": {
      "text/html": [
       "<div>\n",
       "<style scoped>\n",
       "    .dataframe tbody tr th:only-of-type {\n",
       "        vertical-align: middle;\n",
       "    }\n",
       "\n",
       "    .dataframe tbody tr th {\n",
       "        vertical-align: top;\n",
       "    }\n",
       "\n",
       "    .dataframe thead th {\n",
       "        text-align: right;\n",
       "    }\n",
       "</style>\n",
       "<table border=\"1\" class=\"dataframe\">\n",
       "  <thead>\n",
       "    <tr style=\"text-align: right;\">\n",
       "      <th></th>\n",
       "      <th>UserId</th>\n",
       "      <th>ProductId</th>\n",
       "      <th>Rating</th>\n",
       "      <th>Timestamp</th>\n",
       "    </tr>\n",
       "  </thead>\n",
       "  <tbody>\n",
       "    <tr>\n",
       "      <th>42499</th>\n",
       "      <td>A1XN3ED4PWKGEV</td>\n",
       "      <td>B0000YUXI0</td>\n",
       "      <td>5.0</td>\n",
       "      <td>1405728000</td>\n",
       "    </tr>\n",
       "    <tr>\n",
       "      <th>42500</th>\n",
       "      <td>A2S9IZO7K6FL2</td>\n",
       "      <td>B0000YUXI0</td>\n",
       "      <td>5.0</td>\n",
       "      <td>1405209600</td>\n",
       "    </tr>\n",
       "    <tr>\n",
       "      <th>42501</th>\n",
       "      <td>A2PA7TJ0IQ1ZM5</td>\n",
       "      <td>B0000YUXI0</td>\n",
       "      <td>5.0</td>\n",
       "      <td>1405382400</td>\n",
       "    </tr>\n",
       "    <tr>\n",
       "      <th>42502</th>\n",
       "      <td>ACU4QE52SKN9X</td>\n",
       "      <td>B0000YUXI0</td>\n",
       "      <td>4.0</td>\n",
       "      <td>1405641600</td>\n",
       "    </tr>\n",
       "    <tr>\n",
       "      <th>42503</th>\n",
       "      <td>APWWW0M6ITEB5</td>\n",
       "      <td>B0000YUXI0</td>\n",
       "      <td>5.0</td>\n",
       "      <td>1405641600</td>\n",
       "    </tr>\n",
       "    <tr>\n",
       "      <th>...</th>\n",
       "      <td>...</td>\n",
       "      <td>...</td>\n",
       "      <td>...</td>\n",
       "      <td>...</td>\n",
       "    </tr>\n",
       "    <tr>\n",
       "      <th>1280506</th>\n",
       "      <td>A20GXHWQTP25F3</td>\n",
       "      <td>B004OHQR1Q</td>\n",
       "      <td>5.0</td>\n",
       "      <td>1372982400</td>\n",
       "    </tr>\n",
       "    <tr>\n",
       "      <th>1280507</th>\n",
       "      <td>ANGJ5BUZ1H1DP</td>\n",
       "      <td>B004OHQR1Q</td>\n",
       "      <td>4.0</td>\n",
       "      <td>1344470400</td>\n",
       "    </tr>\n",
       "    <tr>\n",
       "      <th>1280508</th>\n",
       "      <td>A3AHRHD38SY22E</td>\n",
       "      <td>B004OHQR1Q</td>\n",
       "      <td>5.0</td>\n",
       "      <td>1373241600</td>\n",
       "    </tr>\n",
       "    <tr>\n",
       "      <th>1280509</th>\n",
       "      <td>A1OHOGJK6QJJZP</td>\n",
       "      <td>B004OHQR1Q</td>\n",
       "      <td>5.0</td>\n",
       "      <td>1373932800</td>\n",
       "    </tr>\n",
       "    <tr>\n",
       "      <th>1280510</th>\n",
       "      <td>A3DX0FASNOPYK</td>\n",
       "      <td>B004OHQR1Q</td>\n",
       "      <td>4.0</td>\n",
       "      <td>1380326400</td>\n",
       "    </tr>\n",
       "  </tbody>\n",
       "</table>\n",
       "<p>26381 rows × 4 columns</p>\n",
       "</div>"
      ],
      "text/plain": [
       "                 UserId   ProductId  Rating   Timestamp\n",
       "42499    A1XN3ED4PWKGEV  B0000YUXI0     5.0  1405728000\n",
       "42500     A2S9IZO7K6FL2  B0000YUXI0     5.0  1405209600\n",
       "42501    A2PA7TJ0IQ1ZM5  B0000YUXI0     5.0  1405382400\n",
       "42502     ACU4QE52SKN9X  B0000YUXI0     4.0  1405641600\n",
       "42503     APWWW0M6ITEB5  B0000YUXI0     5.0  1405641600\n",
       "...                 ...         ...     ...         ...\n",
       "1280506  A20GXHWQTP25F3  B004OHQR1Q     5.0  1372982400\n",
       "1280507   ANGJ5BUZ1H1DP  B004OHQR1Q     4.0  1344470400\n",
       "1280508  A3AHRHD38SY22E  B004OHQR1Q     5.0  1373241600\n",
       "1280509  A1OHOGJK6QJJZP  B004OHQR1Q     5.0  1373932800\n",
       "1280510   A3DX0FASNOPYK  B004OHQR1Q     4.0  1380326400\n",
       "\n",
       "[26381 rows x 4 columns]"
      ]
     },
     "execution_count": 32,
     "metadata": {},
     "output_type": "execute_result"
    }
   ],
   "source": [
    "filtred_data = data.loc[data.ProductId.isin(top10.index)]\n",
    "filtred_data"
   ]
  },
  {
   "cell_type": "code",
   "execution_count": 67,
   "id": "40404a04",
   "metadata": {},
   "outputs": [
    {
     "data": {
      "text/html": [
       "<div>\n",
       "<style scoped>\n",
       "    .dataframe tbody tr th:only-of-type {\n",
       "        vertical-align: middle;\n",
       "    }\n",
       "\n",
       "    .dataframe tbody tr th {\n",
       "        vertical-align: top;\n",
       "    }\n",
       "\n",
       "    .dataframe thead th {\n",
       "        text-align: right;\n",
       "    }\n",
       "</style>\n",
       "<table border=\"1\" class=\"dataframe\">\n",
       "  <thead>\n",
       "    <tr style=\"text-align: right;\">\n",
       "      <th></th>\n",
       "      <th>UserId</th>\n",
       "      <th>ProductId</th>\n",
       "      <th>Rating</th>\n",
       "      <th>Timestamp</th>\n",
       "      <th>date</th>\n",
       "    </tr>\n",
       "  </thead>\n",
       "  <tbody>\n",
       "    <tr>\n",
       "      <th>42499</th>\n",
       "      <td>A1XN3ED4PWKGEV</td>\n",
       "      <td>B0000YUXI0</td>\n",
       "      <td>5.0</td>\n",
       "      <td>1405728000</td>\n",
       "      <td>2014-07-19</td>\n",
       "    </tr>\n",
       "    <tr>\n",
       "      <th>42500</th>\n",
       "      <td>A2S9IZO7K6FL2</td>\n",
       "      <td>B0000YUXI0</td>\n",
       "      <td>5.0</td>\n",
       "      <td>1405209600</td>\n",
       "      <td>2014-07-13</td>\n",
       "    </tr>\n",
       "    <tr>\n",
       "      <th>42501</th>\n",
       "      <td>A2PA7TJ0IQ1ZM5</td>\n",
       "      <td>B0000YUXI0</td>\n",
       "      <td>5.0</td>\n",
       "      <td>1405382400</td>\n",
       "      <td>2014-07-15</td>\n",
       "    </tr>\n",
       "    <tr>\n",
       "      <th>42502</th>\n",
       "      <td>ACU4QE52SKN9X</td>\n",
       "      <td>B0000YUXI0</td>\n",
       "      <td>4.0</td>\n",
       "      <td>1405641600</td>\n",
       "      <td>2014-07-18</td>\n",
       "    </tr>\n",
       "    <tr>\n",
       "      <th>42503</th>\n",
       "      <td>APWWW0M6ITEB5</td>\n",
       "      <td>B0000YUXI0</td>\n",
       "      <td>5.0</td>\n",
       "      <td>1405641600</td>\n",
       "      <td>2014-07-18</td>\n",
       "    </tr>\n",
       "    <tr>\n",
       "      <th>...</th>\n",
       "      <td>...</td>\n",
       "      <td>...</td>\n",
       "      <td>...</td>\n",
       "      <td>...</td>\n",
       "      <td>...</td>\n",
       "    </tr>\n",
       "    <tr>\n",
       "      <th>1280506</th>\n",
       "      <td>A20GXHWQTP25F3</td>\n",
       "      <td>B004OHQR1Q</td>\n",
       "      <td>5.0</td>\n",
       "      <td>1372982400</td>\n",
       "      <td>2013-07-05</td>\n",
       "    </tr>\n",
       "    <tr>\n",
       "      <th>1280507</th>\n",
       "      <td>ANGJ5BUZ1H1DP</td>\n",
       "      <td>B004OHQR1Q</td>\n",
       "      <td>4.0</td>\n",
       "      <td>1344470400</td>\n",
       "      <td>2012-08-09</td>\n",
       "    </tr>\n",
       "    <tr>\n",
       "      <th>1280508</th>\n",
       "      <td>A3AHRHD38SY22E</td>\n",
       "      <td>B004OHQR1Q</td>\n",
       "      <td>5.0</td>\n",
       "      <td>1373241600</td>\n",
       "      <td>2013-07-08</td>\n",
       "    </tr>\n",
       "    <tr>\n",
       "      <th>1280509</th>\n",
       "      <td>A1OHOGJK6QJJZP</td>\n",
       "      <td>B004OHQR1Q</td>\n",
       "      <td>5.0</td>\n",
       "      <td>1373932800</td>\n",
       "      <td>2013-07-16</td>\n",
       "    </tr>\n",
       "    <tr>\n",
       "      <th>1280510</th>\n",
       "      <td>A3DX0FASNOPYK</td>\n",
       "      <td>B004OHQR1Q</td>\n",
       "      <td>4.0</td>\n",
       "      <td>1380326400</td>\n",
       "      <td>2013-09-28</td>\n",
       "    </tr>\n",
       "  </tbody>\n",
       "</table>\n",
       "<p>26381 rows × 5 columns</p>\n",
       "</div>"
      ],
      "text/plain": [
       "                 UserId   ProductId  Rating   Timestamp       date\n",
       "42499    A1XN3ED4PWKGEV  B0000YUXI0     5.0  1405728000 2014-07-19\n",
       "42500     A2S9IZO7K6FL2  B0000YUXI0     5.0  1405209600 2014-07-13\n",
       "42501    A2PA7TJ0IQ1ZM5  B0000YUXI0     5.0  1405382400 2014-07-15\n",
       "42502     ACU4QE52SKN9X  B0000YUXI0     4.0  1405641600 2014-07-18\n",
       "42503     APWWW0M6ITEB5  B0000YUXI0     5.0  1405641600 2014-07-18\n",
       "...                 ...         ...     ...         ...        ...\n",
       "1280506  A20GXHWQTP25F3  B004OHQR1Q     5.0  1372982400 2013-07-05\n",
       "1280507   ANGJ5BUZ1H1DP  B004OHQR1Q     4.0  1344470400 2012-08-09\n",
       "1280508  A3AHRHD38SY22E  B004OHQR1Q     5.0  1373241600 2013-07-08\n",
       "1280509  A1OHOGJK6QJJZP  B004OHQR1Q     5.0  1373932800 2013-07-16\n",
       "1280510   A3DX0FASNOPYK  B004OHQR1Q     4.0  1380326400 2013-09-28\n",
       "\n",
       "[26381 rows x 5 columns]"
      ]
     },
     "execution_count": 67,
     "metadata": {},
     "output_type": "execute_result"
    }
   ],
   "source": [
    "# Transform the data so we have days instead of timestamps.\n",
    "import time\n",
    "# def addDate(row):\n",
    "# #     Sat Jul 19 01:00:00 2014\n",
    "#     raw_date = time.ctime(row['Timestamp'])\n",
    "#     date_infos = raw_date.split(' ')\n",
    "#     if (len(date_infos) == 5):\n",
    "#         date = f'{date_infos[1]} {date_infos[2]} {date_infos[4]}'\n",
    "#     else : \n",
    "#         date = f'{date_infos[1]} {date_infos[3]} {date_infos[5]}'\n",
    "#     row['date']=date\n",
    "#     return row\n",
    "# filtred_data=filtred_data.apply(addDate,axis=1)\n",
    "filtred_data['date'] = pd.to_datetime(filtred_data.Timestamp,unit='s')\n",
    "filtred_data"
   ]
  },
  {
   "cell_type": "code",
   "execution_count": 68,
   "id": "2b24e352",
   "metadata": {},
   "outputs": [
    {
     "data": {
      "text/plain": [
       "date\n",
       "2005-04-23    3.000000\n",
       "2005-05-14    4.000000\n",
       "2005-05-19    5.000000\n",
       "2005-05-26    5.000000\n",
       "2005-06-03    4.000000\n",
       "                ...   \n",
       "2014-07-18    4.142857\n",
       "2014-07-19    3.750000\n",
       "2014-07-20    5.000000\n",
       "2014-07-21    4.200000\n",
       "2014-07-22    4.727273\n",
       "Name: Rating, Length: 2571, dtype: float64"
      ]
     },
     "execution_count": 68,
     "metadata": {},
     "output_type": "execute_result"
    }
   ],
   "source": [
    "# Draw a line graph representing the averaging rating of the products\n",
    "filtred_data.set_index()"
   ]
  },
  {
   "cell_type": "code",
   "execution_count": 69,
   "id": "4b81eb53",
   "metadata": {},
   "outputs": [
    {
     "data": {
      "text/plain": [
       "<AxesSubplot:xlabel='date'>"
      ]
     },
     "execution_count": 69,
     "metadata": {},
     "output_type": "execute_result"
    },
    {
     "data": {
      "image/png": "[encoded data removed]",
      "text/plain": [
       "<Figure size 432x288 with 1 Axes>"
      ]
     },
     "metadata": {
      "needs_background": "light"
     },
     "output_type": "display_data"
    }
   ],
   "source": [
    "filtred_data..groupby('date').Rating.mean().plot()"
   ]
  },
  {
   "cell_type": "code",
   "execution_count": 35,
   "id": "4d47358b",
   "metadata": {},
   "outputs": [
    {
     "data": {
      "text/html": [
       "<div>\n",
       "<style scoped>\n",
       "    .dataframe tbody tr th:only-of-type {\n",
       "        vertical-align: middle;\n",
       "    }\n",
       "\n",
       "    .dataframe tbody tr th {\n",
       "        vertical-align: top;\n",
       "    }\n",
       "\n",
       "    .dataframe thead th {\n",
       "        text-align: right;\n",
       "    }\n",
       "</style>\n",
       "<table border=\"1\" class=\"dataframe\">\n",
       "  <thead>\n",
       "    <tr style=\"text-align: right;\">\n",
       "      <th></th>\n",
       "      <th>UserId</th>\n",
       "      <th>ProductId</th>\n",
       "      <th>Rating</th>\n",
       "      <th>Timestamp</th>\n",
       "      <th>date</th>\n",
       "    </tr>\n",
       "  </thead>\n",
       "  <tbody>\n",
       "    <tr>\n",
       "      <th>42499</th>\n",
       "      <td>A1XN3ED4PWKGEV</td>\n",
       "      <td>B0000YUXI0</td>\n",
       "      <td>5.0</td>\n",
       "      <td>1405728000</td>\n",
       "      <td>Sat Jul 19 01:00:00 2014</td>\n",
       "    </tr>\n",
       "    <tr>\n",
       "      <th>42500</th>\n",
       "      <td>A2S9IZO7K6FL2</td>\n",
       "      <td>B0000YUXI0</td>\n",
       "      <td>5.0</td>\n",
       "      <td>1405209600</td>\n",
       "      <td>Sun Jul 13 01:00:00 2014</td>\n",
       "    </tr>\n",
       "    <tr>\n",
       "      <th>42501</th>\n",
       "      <td>A2PA7TJ0IQ1ZM5</td>\n",
       "      <td>B0000YUXI0</td>\n",
       "      <td>5.0</td>\n",
       "      <td>1405382400</td>\n",
       "      <td>Tue Jul 15 01:00:00 2014</td>\n",
       "    </tr>\n",
       "    <tr>\n",
       "      <th>42502</th>\n",
       "      <td>ACU4QE52SKN9X</td>\n",
       "      <td>B0000YUXI0</td>\n",
       "      <td>4.0</td>\n",
       "      <td>1405641600</td>\n",
       "      <td>Fri Jul 18 01:00:00 2014</td>\n",
       "    </tr>\n",
       "    <tr>\n",
       "      <th>42503</th>\n",
       "      <td>APWWW0M6ITEB5</td>\n",
       "      <td>B0000YUXI0</td>\n",
       "      <td>5.0</td>\n",
       "      <td>1405641600</td>\n",
       "      <td>Fri Jul 18 01:00:00 2014</td>\n",
       "    </tr>\n",
       "    <tr>\n",
       "      <th>...</th>\n",
       "      <td>...</td>\n",
       "      <td>...</td>\n",
       "      <td>...</td>\n",
       "      <td>...</td>\n",
       "      <td>...</td>\n",
       "    </tr>\n",
       "    <tr>\n",
       "      <th>1280506</th>\n",
       "      <td>A20GXHWQTP25F3</td>\n",
       "      <td>B004OHQR1Q</td>\n",
       "      <td>5.0</td>\n",
       "      <td>1372982400</td>\n",
       "      <td>Fri Jul  5 01:00:00 2013</td>\n",
       "    </tr>\n",
       "    <tr>\n",
       "      <th>1280507</th>\n",
       "      <td>ANGJ5BUZ1H1DP</td>\n",
       "      <td>B004OHQR1Q</td>\n",
       "      <td>4.0</td>\n",
       "      <td>1344470400</td>\n",
       "      <td>Thu Aug  9 01:00:00 2012</td>\n",
       "    </tr>\n",
       "    <tr>\n",
       "      <th>1280508</th>\n",
       "      <td>A3AHRHD38SY22E</td>\n",
       "      <td>B004OHQR1Q</td>\n",
       "      <td>5.0</td>\n",
       "      <td>1373241600</td>\n",
       "      <td>Mon Jul  8 01:00:00 2013</td>\n",
       "    </tr>\n",
       "    <tr>\n",
       "      <th>1280509</th>\n",
       "      <td>A1OHOGJK6QJJZP</td>\n",
       "      <td>B004OHQR1Q</td>\n",
       "      <td>5.0</td>\n",
       "      <td>1373932800</td>\n",
       "      <td>Tue Jul 16 01:00:00 2013</td>\n",
       "    </tr>\n",
       "    <tr>\n",
       "      <th>1280510</th>\n",
       "      <td>A3DX0FASNOPYK</td>\n",
       "      <td>B004OHQR1Q</td>\n",
       "      <td>4.0</td>\n",
       "      <td>1380326400</td>\n",
       "      <td>Sat Sep 28 01:00:00 2013</td>\n",
       "    </tr>\n",
       "  </tbody>\n",
       "</table>\n",
       "<p>26381 rows × 5 columns</p>\n",
       "</div>"
      ],
      "text/plain": [
       "                 UserId   ProductId  Rating   Timestamp  \\\n",
       "42499    A1XN3ED4PWKGEV  B0000YUXI0     5.0  1405728000   \n",
       "42500     A2S9IZO7K6FL2  B0000YUXI0     5.0  1405209600   \n",
       "42501    A2PA7TJ0IQ1ZM5  B0000YUXI0     5.0  1405382400   \n",
       "42502     ACU4QE52SKN9X  B0000YUXI0     4.0  1405641600   \n",
       "42503     APWWW0M6ITEB5  B0000YUXI0     5.0  1405641600   \n",
       "...                 ...         ...     ...         ...   \n",
       "1280506  A20GXHWQTP25F3  B004OHQR1Q     5.0  1372982400   \n",
       "1280507   ANGJ5BUZ1H1DP  B004OHQR1Q     4.0  1344470400   \n",
       "1280508  A3AHRHD38SY22E  B004OHQR1Q     5.0  1373241600   \n",
       "1280509  A1OHOGJK6QJJZP  B004OHQR1Q     5.0  1373932800   \n",
       "1280510   A3DX0FASNOPYK  B004OHQR1Q     4.0  1380326400   \n",
       "\n",
       "                             date  \n",
       "42499    Sat Jul 19 01:00:00 2014  \n",
       "42500    Sun Jul 13 01:00:00 2014  \n",
       "42501    Tue Jul 15 01:00:00 2014  \n",
       "42502    Fri Jul 18 01:00:00 2014  \n",
       "42503    Fri Jul 18 01:00:00 2014  \n",
       "...                           ...  \n",
       "1280506  Fri Jul  5 01:00:00 2013  \n",
       "1280507  Thu Aug  9 01:00:00 2012  \n",
       "1280508  Mon Jul  8 01:00:00 2013  \n",
       "1280509  Tue Jul 16 01:00:00 2013  \n",
       "1280510  Sat Sep 28 01:00:00 2013  \n",
       "\n",
       "[26381 rows x 5 columns]"
      ]
     },
     "execution_count": 35,
     "metadata": {},
     "output_type": "execute_result"
    }
   ],
   "source": [
    "filtred_data"
   ]
  },
  {
   "cell_type": "code",
   "execution_count": 36,
   "id": "06e8d58e",
   "metadata": {},
   "outputs": [
    {
     "data": {
      "text/plain": [
       "ProductId   date                    \n",
       "B0000YUXI0  Fri Apr  1 01:00:00 2011    2\n",
       "            Fri Apr  4 01:00:00 2014    2\n",
       "            Fri Apr  5 01:00:00 2013    1\n",
       "            Fri Apr  8 01:00:00 2011    2\n",
       "            Fri Apr 10 01:00:00 2009    1\n",
       "                                       ..\n",
       "B004OHQR1Q  Wed Sep  7 01:00:00 2011    1\n",
       "            Wed Sep 11 01:00:00 2013    5\n",
       "            Wed Sep 18 01:00:00 2013    5\n",
       "            Wed Sep 25 01:00:00 2013    2\n",
       "            Wed Sep 26 01:00:00 2012    1\n",
       "Name: UserId, Length: 9983, dtype: int64"
      ]
     },
     "execution_count": 36,
     "metadata": {},
     "output_type": "execute_result"
    }
   ],
   "source": [
    "# Draw a multi-line graph representing the selling number of each product by day\n",
    "toPlot = filtred_data.groupby(['ProductId','date'])['UserId'].count()\n",
    "toPlot"
   ]
  },
  {
   "cell_type": "code",
   "execution_count": 37,
   "id": "0b152894",
   "metadata": {},
   "outputs": [
    {
     "data": {
      "text/plain": [
       "<AxesSubplot:xlabel='ProductId,date'>"
      ]
     },
     "execution_count": 37,
     "metadata": {},
     "output_type": "execute_result"
    },
    {
     "data": {
      "image/png": "[encoded data removed]",
      "text/plain": [
       "<Figure size 432x288 with 1 Axes>"
      ]
     },
     "metadata": {
      "needs_background": "light"
     },
     "output_type": "display_data"
    }
   ],
   "source": [
    "toPlot.plot()"
   ]
  }
 ],
 "metadata": {
  "kernelspec": {
   "display_name": "Python 3 (ipykernel)",
   "language": "python",
   "name": "python3"
  },
  "language_info": {
   "codemirror_mode": {
    "name": "ipython",
    "version": 3
   },
   "file_extension": ".py",
   "mimetype": "text/x-python",
   "name": "python",
   "nbconvert_exporter": "python",
   "pygments_lexer": "ipython3",
   "version": "3.9.7"
  }
 },
 "nbformat": 4,
 "nbformat_minor": 5
}
