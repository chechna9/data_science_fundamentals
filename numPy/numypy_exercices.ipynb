{
 "cells": [
  {
   "cell_type": "code",
   "execution_count": 154,
   "id": "366dc6f5",
   "metadata": {},
   "outputs": [],
   "source": [
    "import numpy as np\n",
    "import matplotlib.pyplot as plt"
   ]
  },
  {
   "cell_type": "markdown",
   "id": "540035cb",
   "metadata": {},
   "source": [
    "### Exercice 1"
   ]
  },
  {
   "cell_type": "code",
   "execution_count": 91,
   "id": "b5927fed",
   "metadata": {},
   "outputs": [],
   "source": [
    "V = [0.5,0.8,0.9]\n",
    "M =  [[1.0, 0.3, 0.65],[ 0.5, 0.8, 0.9],[ 1.0, 0.3, 0.65]]"
   ]
  },
  {
   "cell_type": "code",
   "execution_count": 92,
   "id": "797ba2b6",
   "metadata": {},
   "outputs": [],
   "source": [
    "# create vector V , and matrix M\n",
    "V= np.array(V)\n",
    "M = np.array(M)"
   ]
  },
  {
   "cell_type": "code",
   "execution_count": 93,
   "id": "c581f64d",
   "metadata": {},
   "outputs": [],
   "source": [
    "#create M transpose and G = Mt*M\n",
    "Mt = np.transpose(M)\n",
    "# @ matrix product * elementwhise product\n",
    "# or using M.dot()\n",
    "G = Mt@M\n",
    "# G = Mt.dot(M)"
   ]
  },
  {
   "cell_type": "code",
   "execution_count": 94,
   "id": "fe31fcec",
   "metadata": {},
   "outputs": [
    {
     "name": "stdout",
     "output_type": "stream",
     "text": [
      "[[1.   0.5  1.  ]\n",
      " [0.3  0.8  0.3 ]\n",
      " [0.65 0.9  0.65]]\n",
      "[[1.   0.3  0.65]\n",
      " [0.5  0.8  0.9 ]\n",
      " [1.   0.3  0.65]]\n",
      "[[2.25  1.    1.75 ]\n",
      " [1.    0.82  1.11 ]\n",
      " [1.75  1.11  1.655]]\n"
     ]
    }
   ],
   "source": [
    "print(Mt)\n",
    "print(M)\n",
    "print(G)"
   ]
  },
  {
   "cell_type": "code",
   "execution_count": 95,
   "id": "30369d9a",
   "metadata": {},
   "outputs": [
    {
     "name": "stdout",
     "output_type": "stream",
     "text": [
      "vect1\n",
      " [[1. ]\n",
      " [0.5]\n",
      " [1. ]]\n",
      "max vect1 1.0\n",
      "min vect1 0.5\n",
      "sum vect1 2.5\n",
      "avg vect1 0.8333333333333334\n"
     ]
    }
   ],
   "source": [
    "# extract vector 1 then max , min , sum , avg\n",
    "vect1 = M[:,0]\n",
    "vect1=vect1.reshape((-1,1))\n",
    "print(f'vect1\\n {vect1}')\n",
    "max_vect1 = vect1.max()\n",
    "print(f'max vect1 {max_vect1}')\n",
    "min_vect1 = vect1.min()\n",
    "print(f'min vect1 {min_vect1}')\n",
    "sum_vect1 = vect1.sum()\n",
    "print(f'sum vect1 {sum_vect1}')\n",
    "avg_vect1 = vect1.mean()\n",
    "print(f'avg vect1 {avg_vect1}')"
   ]
  },
  {
   "cell_type": "code",
   "execution_count": 96,
   "id": "275336fc",
   "metadata": {},
   "outputs": [
    {
     "name": "stdout",
     "output_type": "stream",
     "text": [
      "row1\n",
      " [[1.  ]\n",
      " [0.3 ]\n",
      " [0.65]]\n",
      "max row1 1.0\n",
      "min row1 0.3\n",
      "sum row1 1.9500000000000002\n",
      "avg row1 0.65\n"
     ]
    }
   ],
   "source": [
    "# extract row 1 then max , min , sum , avg\n",
    "row1 = M[0,:]\n",
    "row1=row1.reshape((-1,1))\n",
    "print(f'row1\\n {row1}')\n",
    "max_row1 = row1.max()\n",
    "print(f'max row1 {max_row1}')\n",
    "min_row1 = row1.min()\n",
    "print(f'min row1 {min_row1}')\n",
    "sum_row1 = row1.sum()\n",
    "print(f'sum row1 {sum_row1}')\n",
    "avg_row1 = row1.mean()\n",
    "print(f'avg row1 {avg_row1}')"
   ]
  },
  {
   "cell_type": "code",
   "execution_count": 97,
   "id": "970b16ad",
   "metadata": {},
   "outputs": [
    {
     "name": "stdout",
     "output_type": "stream",
     "text": [
      "row1\n",
      " [[1.  0.3]\n",
      " [0.5 0.8]]\n",
      "max subM 1.0\n",
      "min subM 0.3\n",
      "sum subM 2.6\n",
      "avg subM 0.65\n"
     ]
    }
   ],
   "source": [
    "# extractsub matrix (0-2,0-2) then max , min , sum , avg\n",
    "subM = M[:2,:2]\n",
    "print(f'row1\\n {subM}')\n",
    "max_subM = subM.max()\n",
    "print(f'max subM {max_subM}')\n",
    "min_subM = subM.min()\n",
    "print(f'min subM {min_subM}')\n",
    "sum_subM = subM.sum()\n",
    "print(f'sum subM {sum_subM}')\n",
    "avg_subM = subM.mean()\n",
    "print(f'avg subM {avg_subM}')"
   ]
  },
  {
   "cell_type": "markdown",
   "id": "6559db56",
   "metadata": {},
   "source": [
    "Extract from M: (a) diagonal matrix. (b) identity matrix, (c) values bigger than 0.5."
   ]
  },
  {
   "cell_type": "code",
   "execution_count": 98,
   "id": "00671efc",
   "metadata": {},
   "outputs": [
    {
     "data": {
      "text/plain": [
       "array([[1.  , 0.  , 0.  ],\n",
       "       [0.  , 0.8 , 0.  ],\n",
       "       [0.  , 0.  , 0.65]])"
      ]
     },
     "execution_count": 98,
     "metadata": {},
     "output_type": "execute_result"
    }
   ],
   "source": [
    "diagM = np.diag(M.diagonal())\n",
    "diagM"
   ]
  },
  {
   "cell_type": "code",
   "execution_count": 99,
   "id": "80b2778c",
   "metadata": {},
   "outputs": [
    {
     "data": {
      "text/plain": [
       "array([[1., 0., 0.],\n",
       "       [0., 1., 0.],\n",
       "       [0., 0., 1.]])"
      ]
     },
     "execution_count": 99,
     "metadata": {},
     "output_type": "execute_result"
    }
   ],
   "source": [
    "idM = np.identity(M.shape[0])\n",
    "idM"
   ]
  },
  {
   "cell_type": "code",
   "execution_count": 100,
   "id": "4d92ff85",
   "metadata": {},
   "outputs": [
    {
     "data": {
      "text/plain": [
       "array([1.  , 0.65, 0.8 , 0.9 , 1.  , 0.65])"
      ]
     },
     "execution_count": 100,
     "metadata": {},
     "output_type": "execute_result"
    }
   ],
   "source": [
    "valsSup =M[ M > 0.5]\n",
    "valsSup"
   ]
  },
  {
   "cell_type": "markdown",
   "id": "e77e3243",
   "metadata": {},
   "source": [
    "Insert a new row to M, and then insert a new column to M using random values.\n"
   ]
  },
  {
   "cell_type": "code",
   "execution_count": 101,
   "id": "9dc96496",
   "metadata": {},
   "outputs": [
    {
     "name": "stdout",
     "output_type": "stream",
     "text": [
      "[[0.81032794 0.96125267 0.75298376]]\n",
      "[[1.         0.3        0.65      ]\n",
      " [0.5        0.8        0.9       ]\n",
      " [1.         0.3        0.65      ]\n",
      " [0.81032794 0.96125267 0.75298376]]\n"
     ]
    }
   ],
   "source": [
    "# inserting the row\n",
    "rowtoInsert = np.random.rand(M.shape[1])\n",
    "# reshape to add\n",
    "rowtoInsert = rowtoInsert.reshape(1,-1)\n",
    "print(rowtoInsert)\n",
    "M = np.append(M,rowtoInsert,axis=0)\n",
    "print(M)"
   ]
  },
  {
   "cell_type": "code",
   "execution_count": 104,
   "id": "f54fa192",
   "metadata": {},
   "outputs": [
    {
     "name": "stdout",
     "output_type": "stream",
     "text": [
      "[[0.98413932]\n",
      " [0.72274899]\n",
      " [0.07677343]\n",
      " [0.15728037]]\n",
      "[[1.         0.3        0.65       0.98413932]\n",
      " [0.5        0.8        0.9        0.72274899]\n",
      " [1.         0.3        0.65       0.07677343]\n",
      " [0.81032794 0.96125267 0.75298376 0.15728037]]\n"
     ]
    }
   ],
   "source": [
    "# inserting the col\n",
    "coltoInsert = np.random.rand(M.shape[0])\n",
    "# reshape to add\n",
    "coltoInsert = coltoInsert.reshape(-1,1)\n",
    "print(coltoInsert)\n",
    "M = np.append(M,coltoInsert,axis=1)\n",
    "print(M)"
   ]
  },
  {
   "cell_type": "markdown",
   "id": "45bad904",
   "metadata": {},
   "source": [
    "Calculate Euclidean distance of each two vectors of M using G."
   ]
  },
  {
   "cell_type": "code",
   "execution_count": 110,
   "id": "05ac1411",
   "metadata": {},
   "outputs": [],
   "source": [
    "# i couldnt figure how to do it using G\n",
    "def euclDist(v1,v2):\n",
    "    squared_diff = np.square(np.array(v1)-np.array(v2))\n",
    "    result = np.sqrt(squared_diff.sum())\n",
    "    return result"
   ]
  },
  {
   "cell_type": "code",
   "execution_count": 139,
   "id": "a08ff12d",
   "metadata": {},
   "outputs": [
    {
     "name": "stdout",
     "output_type": "stream",
     "text": [
      "distance vetween v0 and v0 0.0\n",
      "distance vetween v0 and v1 0.7942448667687431\n",
      "distance vetween v0 and v2 0.9073658942273429\n",
      "distance vetween v0 and v3 1.0805239304299177\n",
      "distance vetween v1 and v0 0.7942448667687431\n",
      "distance vetween v1 and v1 0.0\n",
      "distance vetween v1 and v2 0.9898406034607613\n",
      "distance vetween v1 and v3 0.68093640300134\n",
      "distance vetween v2 and v0 0.9073658942273429\n",
      "distance vetween v2 and v1 0.9898406034607613\n",
      "distance vetween v2 and v2 0.0\n",
      "distance vetween v2 and v3 0.7002268241890848\n",
      "distance vetween v3 and v0 1.0805239304299177\n",
      "distance vetween v3 and v1 0.68093640300134\n",
      "distance vetween v3 and v2 0.7002268241890848\n",
      "distance vetween v3 and v3 0.0\n"
     ]
    }
   ],
   "source": [
    "v1_indice = 0 \n",
    "v2_indice = 0\n",
    "for v1 in M :\n",
    "    v2_indice = 0\n",
    "    for v2 in M :\n",
    "        print(f'distance vetween v{v1_indice} and v{v2_indice} {euclDist(v1,v2)}')\n",
    "        v2_indice = v2_indice +1\n",
    "    v1_indice = v1_indice + 1 \n",
    "        "
   ]
  },
  {
   "cell_type": "markdown",
   "id": "3c3997ee",
   "metadata": {},
   "source": [
    "Verify if V is in M."
   ]
  },
  {
   "cell_type": "code",
   "execution_count": 148,
   "id": "5cb7e8fb",
   "metadata": {},
   "outputs": [],
   "source": [
    "def vInM(M,V):\n",
    "    return V in M.tolist()\n"
   ]
  },
  {
   "cell_type": "code",
   "execution_count": 150,
   "id": "f0435c81",
   "metadata": {},
   "outputs": [
    {
     "data": {
      "text/plain": [
       "array([ 0.        ,  1.22222222,  2.44444444,  3.66666667,  4.88888889,\n",
       "        6.11111111,  7.33333333,  8.55555556,  9.77777778, 11.        ])"
      ]
     },
     "execution_count": 150,
     "metadata": {},
     "output_type": "execute_result"
    }
   ],
   "source": [
    "X = np.linspace(0,11,num=10)\n",
    "X"
   ]
  },
  {
   "cell_type": "code",
   "execution_count": 152,
   "id": "c4ea28a1",
   "metadata": {},
   "outputs": [
    {
     "data": {
      "text/plain": [
       "array([ 4.        ,  5.92962963,  7.94074074, 10.03333333, 12.20740741,\n",
       "       14.46296296, 16.8       , 19.21851852, 21.71851852, 24.3       ])"
      ]
     },
     "execution_count": 152,
     "metadata": {},
     "output_type": "execute_result"
    }
   ],
   "source": [
    "a = np.linspace(1.5,1.8,10)\n",
    "b = np.linspace(4,4.5,10)\n",
    "Y = a * X + b\n",
    "Y"
   ]
  },
  {
   "cell_type": "code",
   "execution_count": 156,
   "id": "e1910089",
   "metadata": {},
   "outputs": [
    {
     "data": {
      "text/plain": [
       "[<matplotlib.lines.Line2D at 0x18ea5cb02e0>]"
      ]
     },
     "execution_count": 156,
     "metadata": {},
     "output_type": "execute_result"
    },
    {
     "data": {
      "image/png": "[encoded data removed]",
      "text/plain": [
       "<Figure size 432x288 with 1 Axes>"
      ]
     },
     "metadata": {
      "needs_background": "light"
     },
     "output_type": "display_data"
    }
   ],
   "source": [
    "plt.plot(X,Y)"
   ]
  },
  {
   "cell_type": "code",
   "execution_count": null,
   "id": "46a8b924",
   "metadata": {},
   "outputs": [],
   "source": [
    "# TODO: check n in a submatrix of M"
   ]
  },
  {
   "cell_type": "markdown",
   "id": "138809b8",
   "metadata": {},
   "source": [
    "Create matrix of size (5,5) containing: (a) ones, (b) zeros, and (c) random values."
   ]
  },
  {
   "cell_type": "code",
   "execution_count": 166,
   "id": "6d95c64f",
   "metadata": {},
   "outputs": [
    {
     "name": "stdout",
     "output_type": "stream",
     "text": [
      "[[1. 1. 1. 1. 1.]\n",
      " [1. 1. 1. 1. 1.]\n",
      " [1. 1. 1. 1. 1.]\n",
      " [1. 1. 1. 1. 1.]\n",
      " [1. 1. 1. 1. 1.]]\n",
      "[[0. 0. 0. 0. 0.]\n",
      " [0. 0. 0. 0. 0.]\n",
      " [0. 0. 0. 0. 0.]\n",
      " [0. 0. 0. 0. 0.]\n",
      " [0. 0. 0. 0. 0.]]\n"
     ]
    },
    {
     "ename": "TypeError",
     "evalue": "'list' object cannot be interpreted as an integer",
     "output_type": "error",
     "traceback": [
      "\u001b[1;31m---------------------------------------------------------------------------\u001b[0m",
      "\u001b[1;31mTypeError\u001b[0m                                 Traceback (most recent call last)",
      "\u001b[1;32m~\\AppData\\Local\\Temp/ipykernel_16480/3081316335.py\u001b[0m in \u001b[0;36m<module>\u001b[1;34m\u001b[0m\n\u001b[0;32m      3\u001b[0m \u001b[0mfive0five\u001b[0m \u001b[1;33m=\u001b[0m \u001b[0mnp\u001b[0m\u001b[1;33m.\u001b[0m\u001b[0mzeros\u001b[0m\u001b[1;33m(\u001b[0m\u001b[1;33m[\u001b[0m\u001b[1;36m5\u001b[0m\u001b[1;33m,\u001b[0m\u001b[1;36m5\u001b[0m\u001b[1;33m]\u001b[0m\u001b[1;33m)\u001b[0m\u001b[1;33m\u001b[0m\u001b[1;33m\u001b[0m\u001b[0m\n\u001b[0;32m      4\u001b[0m \u001b[0mprint\u001b[0m\u001b[1;33m(\u001b[0m\u001b[0mfive0five\u001b[0m\u001b[1;33m)\u001b[0m\u001b[1;33m\u001b[0m\u001b[1;33m\u001b[0m\u001b[0m\n\u001b[1;32m----> 5\u001b[1;33m \u001b[0mfiveRNDfive\u001b[0m \u001b[1;33m=\u001b[0m \u001b[0mnp\u001b[0m\u001b[1;33m.\u001b[0m\u001b[0mrandom\u001b[0m\u001b[1;33m.\u001b[0m\u001b[0mrand\u001b[0m\u001b[1;33m(\u001b[0m\u001b[1;33m[\u001b[0m\u001b[1;36m5\u001b[0m\u001b[1;33m,\u001b[0m\u001b[1;36m5\u001b[0m\u001b[1;33m]\u001b[0m\u001b[1;33m)\u001b[0m\u001b[1;33m\u001b[0m\u001b[1;33m\u001b[0m\u001b[0m\n\u001b[0m\u001b[0;32m      6\u001b[0m \u001b[0mprint\u001b[0m\u001b[1;33m(\u001b[0m\u001b[0mfiveRNDfive\u001b[0m\u001b[1;33m)\u001b[0m\u001b[1;33m\u001b[0m\u001b[1;33m\u001b[0m\u001b[0m\n",
      "\u001b[1;32mmtrand.pyx\u001b[0m in \u001b[0;36mnumpy.random.mtrand.RandomState.rand\u001b[1;34m()\u001b[0m\n",
      "\u001b[1;32mmtrand.pyx\u001b[0m in \u001b[0;36mnumpy.random.mtrand.RandomState.random_sample\u001b[1;34m()\u001b[0m\n",
      "\u001b[1;32m_common.pyx\u001b[0m in \u001b[0;36mnumpy.random._common.double_fill\u001b[1;34m()\u001b[0m\n",
      "\u001b[1;31mTypeError\u001b[0m: 'list' object cannot be interpreted as an integer"
     ]
    }
   ],
   "source": [
    "five1five = np.ones([5,5])\n",
    "print(five1five)\n",
    "five0five = np.zeros([5,5])\n",
    "print(five0five)\n",
    "fiveRNDfive = np.random.rand([5,5])\n",
    "print(fiveRNDfive)"
   ]
  },
  {
   "cell_type": "code",
   "execution_count": 160,
   "id": "761cdb57",
   "metadata": {},
   "outputs": [
    {
     "data": {
      "text/plain": [
       "4"
      ]
     },
     "execution_count": 160,
     "metadata": {},
     "output_type": "execute_result"
    }
   ],
   "source": []
  }
 ],
 "metadata": {
  "kernelspec": {
   "display_name": "Python 3 (ipykernel)",
   "language": "python",
   "name": "python3"
  },
  "language_info": {
   "codemirror_mode": {
    "name": "ipython",
    "version": 3
   },
   "file_extension": ".py",
   "mimetype": "text/x-python",
   "name": "python",
   "nbconvert_exporter": "python",
   "pygments_lexer": "ipython3",
   "version": "3.9.7"
  }
 },
 "nbformat": 4,
 "nbformat_minor": 5
}
