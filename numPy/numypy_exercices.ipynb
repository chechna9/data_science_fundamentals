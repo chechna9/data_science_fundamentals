{
 "cells": [
  {
   "cell_type": "code",
   "execution_count": 1,
   "id": "2b8b82f9",
   "metadata": {},
   "outputs": [],
   "source": [
    "import numpy as np\n",
    "import matplotlib.pyplot as plt\n",
    "import pandas as pd"
   ]
  },
  {
   "cell_type": "markdown",
   "id": "ad7dbeec",
   "metadata": {},
   "source": [
    "### Exercice 1"
   ]
  },
  {
   "cell_type": "code",
   "execution_count": 2,
   "id": "f5952c00",
   "metadata": {},
   "outputs": [],
   "source": [
    "V = [0.5,0.8,0.9]\n",
    "M =  [[1.0, 0.3, 0.65],[ 0.5, 0.8, 0.9],[ 1.0, 0.3, 0.65]]"
   ]
  },
  {
   "cell_type": "code",
   "execution_count": 3,
   "id": "1408b783",
   "metadata": {},
   "outputs": [],
   "source": [
    "# create vector V , and matrix M\n",
    "V= np.array(V)\n",
    "M = np.array(M)"
   ]
  },
  {
   "cell_type": "code",
   "execution_count": 4,
   "id": "1d2db23d",
   "metadata": {},
   "outputs": [],
   "source": [
    "#create M transpose and G = Mt*M\n",
    "Mt = np.transpose(M)\n",
    "# @ matrix product * elementwhise product\n",
    "# or using M.dot()\n",
    "G = Mt@M\n",
    "# G = Mt.dot(M)"
   ]
  },
  {
   "cell_type": "code",
   "execution_count": 5,
   "id": "da5762d6",
   "metadata": {},
   "outputs": [
    {
     "name": "stdout",
     "output_type": "stream",
     "text": [
      "[[1.   0.5  1.  ]\n",
      " [0.3  0.8  0.3 ]\n",
      " [0.65 0.9  0.65]]\n",
      "[[1.   0.3  0.65]\n",
      " [0.5  0.8  0.9 ]\n",
      " [1.   0.3  0.65]]\n",
      "[[2.25  1.    1.75 ]\n",
      " [1.    0.82  1.11 ]\n",
      " [1.75  1.11  1.655]]\n"
     ]
    }
   ],
   "source": [
    "print(Mt)\n",
    "print(M)\n",
    "print(G)"
   ]
  },
  {
   "cell_type": "code",
   "execution_count": 6,
   "id": "45f4f90d",
   "metadata": {},
   "outputs": [
    {
     "name": "stdout",
     "output_type": "stream",
     "text": [
      "vect1\n",
      " [[1. ]\n",
      " [0.5]\n",
      " [1. ]]\n",
      "max vect1 1.0\n",
      "min vect1 0.5\n",
      "sum vect1 2.5\n",
      "avg vect1 0.8333333333333334\n"
     ]
    }
   ],
   "source": [
    "# extract vector 1 then max , min , sum , avg\n",
    "vect1 = M[:,0]\n",
    "vect1=vect1.reshape((-1,1))\n",
    "print(f'vect1\\n {vect1}')\n",
    "max_vect1 = vect1.max()\n",
    "print(f'max vect1 {max_vect1}')\n",
    "min_vect1 = vect1.min()\n",
    "print(f'min vect1 {min_vect1}')\n",
    "sum_vect1 = vect1.sum()\n",
    "print(f'sum vect1 {sum_vect1}')\n",
    "avg_vect1 = vect1.mean()\n",
    "print(f'avg vect1 {avg_vect1}')"
   ]
  },
  {
   "cell_type": "code",
   "execution_count": 7,
   "id": "b6f22215",
   "metadata": {},
   "outputs": [
    {
     "name": "stdout",
     "output_type": "stream",
     "text": [
      "row1\n",
      " [[1.  ]\n",
      " [0.3 ]\n",
      " [0.65]]\n",
      "max row1 1.0\n",
      "min row1 0.3\n",
      "sum row1 1.9500000000000002\n",
      "avg row1 0.65\n"
     ]
    }
   ],
   "source": [
    "# extract row 1 then max , min , sum , avg\n",
    "row1 = M[0,:]\n",
    "row1=row1.reshape((-1,1))\n",
    "print(f'row1\\n {row1}')\n",
    "max_row1 = row1.max()\n",
    "print(f'max row1 {max_row1}')\n",
    "min_row1 = row1.min()\n",
    "print(f'min row1 {min_row1}')\n",
    "sum_row1 = row1.sum()\n",
    "print(f'sum row1 {sum_row1}')\n",
    "avg_row1 = row1.mean()\n",
    "print(f'avg row1 {avg_row1}')"
   ]
  },
  {
   "cell_type": "code",
   "execution_count": 8,
   "id": "04695fc5",
   "metadata": {},
   "outputs": [
    {
     "name": "stdout",
     "output_type": "stream",
     "text": [
      "row1\n",
      " [[1.  0.3]\n",
      " [0.5 0.8]]\n",
      "max subM 1.0\n",
      "min subM 0.3\n",
      "sum subM 2.6\n",
      "avg subM 0.65\n"
     ]
    }
   ],
   "source": [
    "# extractsub matrix (0-2,0-2) then max , min , sum , avg\n",
    "subM = M[:2,:2]\n",
    "print(f'row1\\n {subM}')\n",
    "max_subM = subM.max()\n",
    "print(f'max subM {max_subM}')\n",
    "min_subM = subM.min()\n",
    "print(f'min subM {min_subM}')\n",
    "sum_subM = subM.sum()\n",
    "print(f'sum subM {sum_subM}')\n",
    "avg_subM = subM.mean()\n",
    "print(f'avg subM {avg_subM}')"
   ]
  },
  {
   "cell_type": "markdown",
   "id": "57f9b75b",
   "metadata": {},
   "source": [
    "Extract from M: (a) diagonal matrix. (b) identity matrix, (c) values bigger than 0.5."
   ]
  },
  {
   "cell_type": "code",
   "execution_count": 9,
   "id": "4a317977",
   "metadata": {},
   "outputs": [
    {
     "data": {
      "text/plain": [
       "array([[1.  , 0.  , 0.  ],\n",
       "       [0.  , 0.8 , 0.  ],\n",
       "       [0.  , 0.  , 0.65]])"
      ]
     },
     "execution_count": 9,
     "metadata": {},
     "output_type": "execute_result"
    }
   ],
   "source": [
    "diagM = np.diag(M.diagonal())\n",
    "diagM"
   ]
  },
  {
   "cell_type": "code",
   "execution_count": 10,
   "id": "1c71960b",
   "metadata": {},
   "outputs": [
    {
     "data": {
      "text/plain": [
       "array([[1., 0., 0.],\n",
       "       [0., 1., 0.],\n",
       "       [0., 0., 1.]])"
      ]
     },
     "execution_count": 10,
     "metadata": {},
     "output_type": "execute_result"
    }
   ],
   "source": [
    "idM = np.identity(M.shape[0])\n",
    "idM"
   ]
  },
  {
   "cell_type": "code",
   "execution_count": 11,
   "id": "f577bc0d",
   "metadata": {},
   "outputs": [
    {
     "data": {
      "text/plain": [
       "array([1.  , 0.65, 0.8 , 0.9 , 1.  , 0.65])"
      ]
     },
     "execution_count": 11,
     "metadata": {},
     "output_type": "execute_result"
    }
   ],
   "source": [
    "valsSup =M[ M > 0.5]\n",
    "valsSup"
   ]
  },
  {
   "cell_type": "markdown",
   "id": "9ef25db1",
   "metadata": {},
   "source": [
    "Insert a new row to M, and then insert a new column to M using random values.\n"
   ]
  },
  {
   "cell_type": "code",
   "execution_count": 12,
   "id": "2fcabaef",
   "metadata": {},
   "outputs": [
    {
     "name": "stdout",
     "output_type": "stream",
     "text": [
      "[[0.57399633 0.60718674 0.56195937]]\n",
      "[[1.         0.3        0.65      ]\n",
      " [0.5        0.8        0.9       ]\n",
      " [1.         0.3        0.65      ]\n",
      " [0.57399633 0.60718674 0.56195937]]\n"
     ]
    }
   ],
   "source": [
    "# inserting the row\n",
    "rowtoInsert = np.random.rand(M.shape[1])\n",
    "# reshape to add\n",
    "rowtoInsert = rowtoInsert.reshape(1,-1)\n",
    "print(rowtoInsert)\n",
    "M = np.append(M,rowtoInsert,axis=0)\n",
    "print(M)"
   ]
  },
  {
   "cell_type": "code",
   "execution_count": 13,
   "id": "d3b47be1",
   "metadata": {},
   "outputs": [
    {
     "name": "stdout",
     "output_type": "stream",
     "text": [
      "[[0.49941544]\n",
      " [0.74806057]\n",
      " [0.00848813]\n",
      " [0.43903998]]\n",
      "[[1.         0.3        0.65       0.49941544]\n",
      " [0.5        0.8        0.9        0.74806057]\n",
      " [1.         0.3        0.65       0.00848813]\n",
      " [0.57399633 0.60718674 0.56195937 0.43903998]]\n"
     ]
    }
   ],
   "source": [
    "# inserting the col\n",
    "coltoInsert = np.random.rand(M.shape[0])\n",
    "# reshape to add\n",
    "coltoInsert = coltoInsert.reshape(-1,1)\n",
    "print(coltoInsert)\n",
    "M = np.append(M,coltoInsert,axis=1)\n",
    "print(M)"
   ]
  },
  {
   "cell_type": "markdown",
   "id": "6b42f50e",
   "metadata": {},
   "source": [
    "Calculate Euclidean distance of each two vectors of M using G."
   ]
  },
  {
   "cell_type": "code",
   "execution_count": 14,
   "id": "7a370e8b",
   "metadata": {},
   "outputs": [],
   "source": [
    "# i couldnt figure how to do it using G\n",
    "def euclDist(v1,v2):\n",
    "    squared_diff = np.square(np.array(v1)-np.array(v2))\n",
    "    result = np.sqrt(squared_diff.sum())\n",
    "    return result"
   ]
  },
  {
   "cell_type": "code",
   "execution_count": 15,
   "id": "32c8cc3a",
   "metadata": {},
   "outputs": [
    {
     "name": "stdout",
     "output_type": "stream",
     "text": [
      "distance vetween v0 and v0 0.0\n",
      "distance vetween v0 and v1 0.7901420152248502\n",
      "distance vetween v0 and v2 0.49092730282955743\n",
      "distance vetween v0 and v3 0.5359469843129017\n",
      "distance vetween v1 and v0 0.7901420152248502\n",
      "distance vetween v1 and v1 0.0\n",
      "distance vetween v1 and v2 1.0533125813181825\n",
      "distance vetween v1 and v3 0.5024117884402004\n",
      "distance vetween v2 and v0 0.49092730282955743\n",
      "distance vetween v2 and v1 1.0533125813181825\n",
      "distance vetween v2 and v2 0.0\n",
      "distance vetween v2 and v3 0.6848130141014851\n",
      "distance vetween v3 and v0 0.5359469843129017\n",
      "distance vetween v3 and v1 0.5024117884402004\n",
      "distance vetween v3 and v2 0.6848130141014851\n",
      "distance vetween v3 and v3 0.0\n"
     ]
    }
   ],
   "source": [
    "v1_indice = 0 \n",
    "v2_indice = 0\n",
    "for v1 in M :\n",
    "    v2_indice = 0\n",
    "    for v2 in M :\n",
    "        print(f'distance vetween v{v1_indice} and v{v2_indice} {euclDist(v1,v2)}')\n",
    "        v2_indice = v2_indice +1\n",
    "    v1_indice = v1_indice + 1 \n",
    "        "
   ]
  },
  {
   "cell_type": "markdown",
   "id": "f4935490",
   "metadata": {},
   "source": [
    "Verify if V is in M."
   ]
  },
  {
   "cell_type": "code",
   "execution_count": 16,
   "id": "2444aaed",
   "metadata": {},
   "outputs": [],
   "source": [
    "def vInM(M,V):\n",
    "    return V in M.tolist()\n"
   ]
  },
  {
   "cell_type": "code",
   "execution_count": 17,
   "id": "64a9c465",
   "metadata": {},
   "outputs": [
    {
     "data": {
      "text/plain": [
       "array([ 0.        ,  1.22222222,  2.44444444,  3.66666667,  4.88888889,\n",
       "        6.11111111,  7.33333333,  8.55555556,  9.77777778, 11.        ])"
      ]
     },
     "execution_count": 17,
     "metadata": {},
     "output_type": "execute_result"
    }
   ],
   "source": [
    "X = np.linspace(0,11,num=10)\n",
    "X"
   ]
  },
  {
   "cell_type": "code",
   "execution_count": 18,
   "id": "fda33d12",
   "metadata": {},
   "outputs": [
    {
     "data": {
      "text/plain": [
       "array([ 4.        ,  5.92962963,  7.94074074, 10.03333333, 12.20740741,\n",
       "       14.46296296, 16.8       , 19.21851852, 21.71851852, 24.3       ])"
      ]
     },
     "execution_count": 18,
     "metadata": {},
     "output_type": "execute_result"
    }
   ],
   "source": [
    "a = np.linspace(1.5,1.8,10)\n",
    "b = np.linspace(4,4.5,10)\n",
    "Y = a * X + b\n",
    "Y"
   ]
  },
  {
   "cell_type": "code",
   "execution_count": 19,
   "id": "19368dcf",
   "metadata": {},
   "outputs": [
    {
     "data": {
      "text/plain": [
       "[<matplotlib.lines.Line2D at 0x2bd73960fa0>]"
      ]
     },
     "execution_count": 19,
     "metadata": {},
     "output_type": "execute_result"
    },
    {
     "data": {
      "image/png": "[encoded data removed]",
      "text/plain": [
       "<Figure size 432x288 with 1 Axes>"
      ]
     },
     "metadata": {
      "needs_background": "light"
     },
     "output_type": "display_data"
    }
   ],
   "source": [
    "plt.plot(X,Y)"
   ]
  },
  {
   "cell_type": "code",
   "execution_count": 20,
   "id": "025990aa",
   "metadata": {},
   "outputs": [],
   "source": [
    "# TODO: check n in a submatrix of M"
   ]
  },
  {
   "cell_type": "markdown",
   "id": "398a27b7",
   "metadata": {},
   "source": [
    "Create matrix of size (5,5) containing: (a) ones, (b) zeros, and (c) random values."
   ]
  },
  {
   "cell_type": "code",
   "execution_count": 21,
   "id": "2541a330",
   "metadata": {},
   "outputs": [
    {
     "name": "stdout",
     "output_type": "stream",
     "text": [
      "[[1. 1. 1. 1. 1.]\n",
      " [1. 1. 1. 1. 1.]\n",
      " [1. 1. 1. 1. 1.]\n",
      " [1. 1. 1. 1. 1.]\n",
      " [1. 1. 1. 1. 1.]]\n",
      "[[0. 0. 0. 0. 0.]\n",
      " [0. 0. 0. 0. 0.]\n",
      " [0. 0. 0. 0. 0.]\n",
      " [0. 0. 0. 0. 0.]\n",
      " [0. 0. 0. 0. 0.]]\n",
      "[[0.65108308 0.50817949 0.34332346 0.83907503 0.49538425]\n",
      " [0.06644043 0.1827218  0.95988285 0.36938575 0.6589297 ]\n",
      " [0.54521552 0.15150637 0.70587986 0.36917301 0.35202817]\n",
      " [0.4526543  0.23112573 0.66182333 0.81567833 0.6371265 ]\n",
      " [0.09944291 0.22829291 0.87910087 0.20426361 0.62377115]]\n"
     ]
    }
   ],
   "source": [
    "five1five = np.ones([5,5])\n",
    "print(five1five)\n",
    "five0five = np.zeros([5,5])\n",
    "print(five0five)\n",
    "fiveRNDfive = np.random.rand(5,5)\n",
    "print(fiveRNDfive)"
   ]
  },
  {
   "cell_type": "markdown",
   "id": "3ac5a424",
   "metadata": {},
   "source": [
    "### Exercice 2"
   ]
  },
  {
   "cell_type": "code",
   "execution_count": 22,
   "id": "5176e74a",
   "metadata": {},
   "outputs": [],
   "source": [
    "#calculate maclaurin series\n",
    "def expoTaylor(x,n):\n",
    "    arr = np.array([(x**i)/np.math.factorial(i) for i in range(n)])\n",
    "    return arr.sum()"
   ]
  },
  {
   "cell_type": "code",
   "execution_count": 23,
   "id": "75efff18",
   "metadata": {},
   "outputs": [
    {
     "name": "stdout",
     "output_type": "stream",
     "text": [
      "54.598150033144236\n",
      "54.59706179769672\n"
     ]
    }
   ],
   "source": [
    "x=4\n",
    "n=15\n",
    "print(np.exp(x))\n",
    "print(expoTaylor(x,n))"
   ]
  },
  {
   "cell_type": "markdown",
   "id": "97a5e140",
   "metadata": {},
   "source": [
    "### Exercice 3"
   ]
  },
  {
   "cell_type": "code",
   "execution_count": 24,
   "id": "bcf33450",
   "metadata": {},
   "outputs": [
    {
     "data": {
      "text/html": [
       "<div>\n",
       "<style scoped>\n",
       "    .dataframe tbody tr th:only-of-type {\n",
       "        vertical-align: middle;\n",
       "    }\n",
       "\n",
       "    .dataframe tbody tr th {\n",
       "        vertical-align: top;\n",
       "    }\n",
       "\n",
       "    .dataframe thead th {\n",
       "        text-align: right;\n",
       "    }\n",
       "</style>\n",
       "<table border=\"1\" class=\"dataframe\">\n",
       "  <thead>\n",
       "    <tr style=\"text-align: right;\">\n",
       "      <th></th>\n",
       "      <th>UserId</th>\n",
       "      <th>ProductId</th>\n",
       "      <th>Rating</th>\n",
       "      <th>Timestamp</th>\n",
       "    </tr>\n",
       "  </thead>\n",
       "  <tbody>\n",
       "    <tr>\n",
       "      <th>0</th>\n",
       "      <td>A39HTATAQ9V7YF</td>\n",
       "      <td>0205616461</td>\n",
       "      <td>5.0</td>\n",
       "      <td>1369699200</td>\n",
       "    </tr>\n",
       "    <tr>\n",
       "      <th>1</th>\n",
       "      <td>A3JM6GV9MNOF9X</td>\n",
       "      <td>0558925278</td>\n",
       "      <td>3.0</td>\n",
       "      <td>1355443200</td>\n",
       "    </tr>\n",
       "    <tr>\n",
       "      <th>2</th>\n",
       "      <td>A1Z513UWSAAO0F</td>\n",
       "      <td>0558925278</td>\n",
       "      <td>5.0</td>\n",
       "      <td>1404691200</td>\n",
       "    </tr>\n",
       "    <tr>\n",
       "      <th>3</th>\n",
       "      <td>A1WMRR494NWEWV</td>\n",
       "      <td>0733001998</td>\n",
       "      <td>4.0</td>\n",
       "      <td>1382572800</td>\n",
       "    </tr>\n",
       "    <tr>\n",
       "      <th>4</th>\n",
       "      <td>A3IAAVS479H7M7</td>\n",
       "      <td>0737104473</td>\n",
       "      <td>1.0</td>\n",
       "      <td>1274227200</td>\n",
       "    </tr>\n",
       "    <tr>\n",
       "      <th>...</th>\n",
       "      <td>...</td>\n",
       "      <td>...</td>\n",
       "      <td>...</td>\n",
       "      <td>...</td>\n",
       "    </tr>\n",
       "    <tr>\n",
       "      <th>2023065</th>\n",
       "      <td>A3DEHKPFANB8VA</td>\n",
       "      <td>B00LORWRJA</td>\n",
       "      <td>5.0</td>\n",
       "      <td>1405296000</td>\n",
       "    </tr>\n",
       "    <tr>\n",
       "      <th>2023066</th>\n",
       "      <td>A3DEHKPFANB8VA</td>\n",
       "      <td>B00LOS7MEE</td>\n",
       "      <td>5.0</td>\n",
       "      <td>1405296000</td>\n",
       "    </tr>\n",
       "    <tr>\n",
       "      <th>2023067</th>\n",
       "      <td>AG9TJLJUN5OM3</td>\n",
       "      <td>B00LP2YB8E</td>\n",
       "      <td>5.0</td>\n",
       "      <td>1405382400</td>\n",
       "    </tr>\n",
       "    <tr>\n",
       "      <th>2023068</th>\n",
       "      <td>AYBIB14QOI9PC</td>\n",
       "      <td>B00LPVG6V0</td>\n",
       "      <td>5.0</td>\n",
       "      <td>1405555200</td>\n",
       "    </tr>\n",
       "    <tr>\n",
       "      <th>2023069</th>\n",
       "      <td>A1PB6OT0OOPKNQ</td>\n",
       "      <td>B00LU0LTOU</td>\n",
       "      <td>5.0</td>\n",
       "      <td>1405641600</td>\n",
       "    </tr>\n",
       "  </tbody>\n",
       "</table>\n",
       "<p>2023070 rows × 4 columns</p>\n",
       "</div>"
      ],
      "text/plain": [
       "                 UserId   ProductId  Rating   Timestamp\n",
       "0        A39HTATAQ9V7YF  0205616461     5.0  1369699200\n",
       "1        A3JM6GV9MNOF9X  0558925278     3.0  1355443200\n",
       "2        A1Z513UWSAAO0F  0558925278     5.0  1404691200\n",
       "3        A1WMRR494NWEWV  0733001998     4.0  1382572800\n",
       "4        A3IAAVS479H7M7  0737104473     1.0  1274227200\n",
       "...                 ...         ...     ...         ...\n",
       "2023065  A3DEHKPFANB8VA  B00LORWRJA     5.0  1405296000\n",
       "2023066  A3DEHKPFANB8VA  B00LOS7MEE     5.0  1405296000\n",
       "2023067   AG9TJLJUN5OM3  B00LP2YB8E     5.0  1405382400\n",
       "2023068   AYBIB14QOI9PC  B00LPVG6V0     5.0  1405555200\n",
       "2023069  A1PB6OT0OOPKNQ  B00LU0LTOU     5.0  1405641600\n",
       "\n",
       "[2023070 rows x 4 columns]"
      ]
     },
     "execution_count": 24,
     "metadata": {},
     "output_type": "execute_result"
    }
   ],
   "source": [
    "data = pd.read_csv('./ratings_Beauty.csv')\n",
    "data"
   ]
  },
  {
   "cell_type": "code",
   "execution_count": 25,
   "id": "e6376074",
   "metadata": {},
   "outputs": [],
   "source": [
    "# Filter rows to pick up the 10 highest sold products\n",
    "numberOfSales=data.groupby('ProductId').UserId.count()"
   ]
  },
  {
   "cell_type": "code",
   "execution_count": 26,
   "id": "95aba736",
   "metadata": {
    "scrolled": true
   },
   "outputs": [
    {
     "data": {
      "text/plain": [
       "ProductId\n",
       "B001MA0QY2    7533\n",
       "B0009V1YR8    2869\n",
       "B0043OYFKU    2477\n",
       "B0000YUXI0    2143\n",
       "B003V265QW    2088\n",
       "B000ZMBSPE    2041\n",
       "B003BQ6QXK    1918\n",
       "B004OHQR1Q    1885\n",
       "B00121UVU0    1838\n",
       "B000FS05VG    1589\n",
       "Name: UserId, dtype: int64"
      ]
     },
     "execution_count": 26,
     "metadata": {},
     "output_type": "execute_result"
    }
   ],
   "source": [
    "top10=numberOfSales.sort_values(ascending=False).iloc[:10]\n",
    "top10"
   ]
  },
  {
   "cell_type": "code",
   "execution_count": 27,
   "id": "f51805f4",
   "metadata": {},
   "outputs": [
    {
     "data": {
      "text/plain": [
       "Index(['B001MA0QY2', 'B0009V1YR8', 'B0043OYFKU', 'B0000YUXI0', 'B003V265QW',\n",
       "       'B000ZMBSPE', 'B003BQ6QXK', 'B004OHQR1Q', 'B00121UVU0', 'B000FS05VG'],\n",
       "      dtype='object', name='ProductId')"
      ]
     },
     "execution_count": 27,
     "metadata": {},
     "output_type": "execute_result"
    }
   ],
   "source": [
    "top10.index"
   ]
  },
  {
   "cell_type": "code",
   "execution_count": 28,
   "id": "e4615f83",
   "metadata": {},
   "outputs": [
    {
     "data": {
      "text/html": [
       "<div>\n",
       "<style scoped>\n",
       "    .dataframe tbody tr th:only-of-type {\n",
       "        vertical-align: middle;\n",
       "    }\n",
       "\n",
       "    .dataframe tbody tr th {\n",
       "        vertical-align: top;\n",
       "    }\n",
       "\n",
       "    .dataframe thead th {\n",
       "        text-align: right;\n",
       "    }\n",
       "</style>\n",
       "<table border=\"1\" class=\"dataframe\">\n",
       "  <thead>\n",
       "    <tr style=\"text-align: right;\">\n",
       "      <th></th>\n",
       "      <th>UserId</th>\n",
       "      <th>ProductId</th>\n",
       "      <th>Rating</th>\n",
       "      <th>Timestamp</th>\n",
       "    </tr>\n",
       "  </thead>\n",
       "  <tbody>\n",
       "    <tr>\n",
       "      <th>42499</th>\n",
       "      <td>A1XN3ED4PWKGEV</td>\n",
       "      <td>B0000YUXI0</td>\n",
       "      <td>5.0</td>\n",
       "      <td>1405728000</td>\n",
       "    </tr>\n",
       "    <tr>\n",
       "      <th>42500</th>\n",
       "      <td>A2S9IZO7K6FL2</td>\n",
       "      <td>B0000YUXI0</td>\n",
       "      <td>5.0</td>\n",
       "      <td>1405209600</td>\n",
       "    </tr>\n",
       "    <tr>\n",
       "      <th>42501</th>\n",
       "      <td>A2PA7TJ0IQ1ZM5</td>\n",
       "      <td>B0000YUXI0</td>\n",
       "      <td>5.0</td>\n",
       "      <td>1405382400</td>\n",
       "    </tr>\n",
       "    <tr>\n",
       "      <th>42502</th>\n",
       "      <td>ACU4QE52SKN9X</td>\n",
       "      <td>B0000YUXI0</td>\n",
       "      <td>4.0</td>\n",
       "      <td>1405641600</td>\n",
       "    </tr>\n",
       "    <tr>\n",
       "      <th>42503</th>\n",
       "      <td>APWWW0M6ITEB5</td>\n",
       "      <td>B0000YUXI0</td>\n",
       "      <td>5.0</td>\n",
       "      <td>1405641600</td>\n",
       "    </tr>\n",
       "    <tr>\n",
       "      <th>...</th>\n",
       "      <td>...</td>\n",
       "      <td>...</td>\n",
       "      <td>...</td>\n",
       "      <td>...</td>\n",
       "    </tr>\n",
       "    <tr>\n",
       "      <th>1280506</th>\n",
       "      <td>A20GXHWQTP25F3</td>\n",
       "      <td>B004OHQR1Q</td>\n",
       "      <td>5.0</td>\n",
       "      <td>1372982400</td>\n",
       "    </tr>\n",
       "    <tr>\n",
       "      <th>1280507</th>\n",
       "      <td>ANGJ5BUZ1H1DP</td>\n",
       "      <td>B004OHQR1Q</td>\n",
       "      <td>4.0</td>\n",
       "      <td>1344470400</td>\n",
       "    </tr>\n",
       "    <tr>\n",
       "      <th>1280508</th>\n",
       "      <td>A3AHRHD38SY22E</td>\n",
       "      <td>B004OHQR1Q</td>\n",
       "      <td>5.0</td>\n",
       "      <td>1373241600</td>\n",
       "    </tr>\n",
       "    <tr>\n",
       "      <th>1280509</th>\n",
       "      <td>A1OHOGJK6QJJZP</td>\n",
       "      <td>B004OHQR1Q</td>\n",
       "      <td>5.0</td>\n",
       "      <td>1373932800</td>\n",
       "    </tr>\n",
       "    <tr>\n",
       "      <th>1280510</th>\n",
       "      <td>A3DX0FASNOPYK</td>\n",
       "      <td>B004OHQR1Q</td>\n",
       "      <td>4.0</td>\n",
       "      <td>1380326400</td>\n",
       "    </tr>\n",
       "  </tbody>\n",
       "</table>\n",
       "<p>26381 rows × 4 columns</p>\n",
       "</div>"
      ],
      "text/plain": [
       "                 UserId   ProductId  Rating   Timestamp\n",
       "42499    A1XN3ED4PWKGEV  B0000YUXI0     5.0  1405728000\n",
       "42500     A2S9IZO7K6FL2  B0000YUXI0     5.0  1405209600\n",
       "42501    A2PA7TJ0IQ1ZM5  B0000YUXI0     5.0  1405382400\n",
       "42502     ACU4QE52SKN9X  B0000YUXI0     4.0  1405641600\n",
       "42503     APWWW0M6ITEB5  B0000YUXI0     5.0  1405641600\n",
       "...                 ...         ...     ...         ...\n",
       "1280506  A20GXHWQTP25F3  B004OHQR1Q     5.0  1372982400\n",
       "1280507   ANGJ5BUZ1H1DP  B004OHQR1Q     4.0  1344470400\n",
       "1280508  A3AHRHD38SY22E  B004OHQR1Q     5.0  1373241600\n",
       "1280509  A1OHOGJK6QJJZP  B004OHQR1Q     5.0  1373932800\n",
       "1280510   A3DX0FASNOPYK  B004OHQR1Q     4.0  1380326400\n",
       "\n",
       "[26381 rows x 4 columns]"
      ]
     },
     "execution_count": 28,
     "metadata": {},
     "output_type": "execute_result"
    }
   ],
   "source": [
    "filtred_data = data.loc[data.ProductId.isin(top10.index)]\n",
    "filtred_data"
   ]
  },
  {
   "cell_type": "code",
   "execution_count": 29,
   "id": "40404a04",
   "metadata": {},
   "outputs": [
    {
     "name": "stderr",
     "output_type": "stream",
     "text": [
      "C:\\Users\\Lenovo\\AppData\\Local\\Temp/ipykernel_16640/3639158197.py:14: SettingWithCopyWarning: \n",
      "A value is trying to be set on a copy of a slice from a DataFrame.\n",
      "Try using .loc[row_indexer,col_indexer] = value instead\n",
      "\n",
      "See the caveats in the documentation: https://pandas.pydata.org/pandas-docs/stable/user_guide/indexing.html#returning-a-view-versus-a-copy\n",
      "  filtred_data['date'] = pd.to_datetime(filtred_data.Timestamp,unit='s')\n"
     ]
    },
    {
     "data": {
      "text/html": [
       "<div>\n",
       "<style scoped>\n",
       "    .dataframe tbody tr th:only-of-type {\n",
       "        vertical-align: middle;\n",
       "    }\n",
       "\n",
       "    .dataframe tbody tr th {\n",
       "        vertical-align: top;\n",
       "    }\n",
       "\n",
       "    .dataframe thead th {\n",
       "        text-align: right;\n",
       "    }\n",
       "</style>\n",
       "<table border=\"1\" class=\"dataframe\">\n",
       "  <thead>\n",
       "    <tr style=\"text-align: right;\">\n",
       "      <th></th>\n",
       "      <th>UserId</th>\n",
       "      <th>ProductId</th>\n",
       "      <th>Rating</th>\n",
       "      <th>Timestamp</th>\n",
       "      <th>date</th>\n",
       "    </tr>\n",
       "  </thead>\n",
       "  <tbody>\n",
       "    <tr>\n",
       "      <th>42499</th>\n",
       "      <td>A1XN3ED4PWKGEV</td>\n",
       "      <td>B0000YUXI0</td>\n",
       "      <td>5.0</td>\n",
       "      <td>1405728000</td>\n",
       "      <td>2014-07-19</td>\n",
       "    </tr>\n",
       "    <tr>\n",
       "      <th>42500</th>\n",
       "      <td>A2S9IZO7K6FL2</td>\n",
       "      <td>B0000YUXI0</td>\n",
       "      <td>5.0</td>\n",
       "      <td>1405209600</td>\n",
       "      <td>2014-07-13</td>\n",
       "    </tr>\n",
       "    <tr>\n",
       "      <th>42501</th>\n",
       "      <td>A2PA7TJ0IQ1ZM5</td>\n",
       "      <td>B0000YUXI0</td>\n",
       "      <td>5.0</td>\n",
       "      <td>1405382400</td>\n",
       "      <td>2014-07-15</td>\n",
       "    </tr>\n",
       "    <tr>\n",
       "      <th>42502</th>\n",
       "      <td>ACU4QE52SKN9X</td>\n",
       "      <td>B0000YUXI0</td>\n",
       "      <td>4.0</td>\n",
       "      <td>1405641600</td>\n",
       "      <td>2014-07-18</td>\n",
       "    </tr>\n",
       "    <tr>\n",
       "      <th>42503</th>\n",
       "      <td>APWWW0M6ITEB5</td>\n",
       "      <td>B0000YUXI0</td>\n",
       "      <td>5.0</td>\n",
       "      <td>1405641600</td>\n",
       "      <td>2014-07-18</td>\n",
       "    </tr>\n",
       "    <tr>\n",
       "      <th>...</th>\n",
       "      <td>...</td>\n",
       "      <td>...</td>\n",
       "      <td>...</td>\n",
       "      <td>...</td>\n",
       "      <td>...</td>\n",
       "    </tr>\n",
       "    <tr>\n",
       "      <th>1280506</th>\n",
       "      <td>A20GXHWQTP25F3</td>\n",
       "      <td>B004OHQR1Q</td>\n",
       "      <td>5.0</td>\n",
       "      <td>1372982400</td>\n",
       "      <td>2013-07-05</td>\n",
       "    </tr>\n",
       "    <tr>\n",
       "      <th>1280507</th>\n",
       "      <td>ANGJ5BUZ1H1DP</td>\n",
       "      <td>B004OHQR1Q</td>\n",
       "      <td>4.0</td>\n",
       "      <td>1344470400</td>\n",
       "      <td>2012-08-09</td>\n",
       "    </tr>\n",
       "    <tr>\n",
       "      <th>1280508</th>\n",
       "      <td>A3AHRHD38SY22E</td>\n",
       "      <td>B004OHQR1Q</td>\n",
       "      <td>5.0</td>\n",
       "      <td>1373241600</td>\n",
       "      <td>2013-07-08</td>\n",
       "    </tr>\n",
       "    <tr>\n",
       "      <th>1280509</th>\n",
       "      <td>A1OHOGJK6QJJZP</td>\n",
       "      <td>B004OHQR1Q</td>\n",
       "      <td>5.0</td>\n",
       "      <td>1373932800</td>\n",
       "      <td>2013-07-16</td>\n",
       "    </tr>\n",
       "    <tr>\n",
       "      <th>1280510</th>\n",
       "      <td>A3DX0FASNOPYK</td>\n",
       "      <td>B004OHQR1Q</td>\n",
       "      <td>4.0</td>\n",
       "      <td>1380326400</td>\n",
       "      <td>2013-09-28</td>\n",
       "    </tr>\n",
       "  </tbody>\n",
       "</table>\n",
       "<p>26381 rows × 5 columns</p>\n",
       "</div>"
      ],
      "text/plain": [
       "                 UserId   ProductId  Rating   Timestamp       date\n",
       "42499    A1XN3ED4PWKGEV  B0000YUXI0     5.0  1405728000 2014-07-19\n",
       "42500     A2S9IZO7K6FL2  B0000YUXI0     5.0  1405209600 2014-07-13\n",
       "42501    A2PA7TJ0IQ1ZM5  B0000YUXI0     5.0  1405382400 2014-07-15\n",
       "42502     ACU4QE52SKN9X  B0000YUXI0     4.0  1405641600 2014-07-18\n",
       "42503     APWWW0M6ITEB5  B0000YUXI0     5.0  1405641600 2014-07-18\n",
       "...                 ...         ...     ...         ...        ...\n",
       "1280506  A20GXHWQTP25F3  B004OHQR1Q     5.0  1372982400 2013-07-05\n",
       "1280507   ANGJ5BUZ1H1DP  B004OHQR1Q     4.0  1344470400 2012-08-09\n",
       "1280508  A3AHRHD38SY22E  B004OHQR1Q     5.0  1373241600 2013-07-08\n",
       "1280509  A1OHOGJK6QJJZP  B004OHQR1Q     5.0  1373932800 2013-07-16\n",
       "1280510   A3DX0FASNOPYK  B004OHQR1Q     4.0  1380326400 2013-09-28\n",
       "\n",
       "[26381 rows x 5 columns]"
      ]
     },
     "execution_count": 29,
     "metadata": {},
     "output_type": "execute_result"
    }
   ],
   "source": [
    "# Transform the data so we have days instead of timestamps.\n",
    "import time\n",
    "# def addDate(row):\n",
    "# #     Sat Jul 19 01:00:00 2014\n",
    "#     raw_date = time.ctime(row['Timestamp'])\n",
    "#     date_infos = raw_date.split(' ')\n",
    "#     if (len(date_infos) == 5):\n",
    "#         date = f'{date_infos[1]} {date_infos[2]} {date_infos[4]}'\n",
    "#     else : \n",
    "#         date = f'{date_infos[1]} {date_infos[3]} {date_infos[5]}'\n",
    "#     row['date']=date\n",
    "#     return row\n",
    "# filtred_data=filtred_data.apply(addDate,axis=1)\n",
    "filtred_data['date'] = pd.to_datetime(filtred_data.Timestamp,unit='s')\n",
    "filtred_data"
   ]
  },
  {
   "cell_type": "code",
   "execution_count": 30,
   "id": "d2921264",
   "metadata": {},
   "outputs": [],
   "source": [
    "# Draw a line graph representing the averaging rating of the products\n",
    "filtred_data.set_index('date',inplace=True)"
   ]
  },
  {
   "cell_type": "code",
   "execution_count": 31,
   "id": "4b81eb53",
   "metadata": {},
   "outputs": [
    {
     "data": {
      "text/plain": [
       "<AxesSubplot:xlabel='date'>"
      ]
     },
     "execution_count": 31,
     "metadata": {},
     "output_type": "execute_result"
    },
    {
     "data": {
      "image/png": "[encoded data removed]",
      "text/plain": [
       "<Figure size 432x288 with 1 Axes>"
      ]
     },
     "metadata": {
      "needs_background": "light"
     },
     "output_type": "display_data"
    }
   ],
   "source": [
    "filtred_data.resample('M').Rating.mean().plot()"
   ]
  },
  {
   "cell_type": "markdown",
   "id": "53c9bcc0",
   "metadata": {},
   "source": [
    "Draw a multi-line graph representing the selling number of each product by day"
   ]
  },
  {
   "cell_type": "code",
   "execution_count": 32,
   "id": "06e8d58e",
   "metadata": {},
   "outputs": [
    {
     "data": {
      "text/html": [
       "<div>\n",
       "<style scoped>\n",
       "    .dataframe tbody tr th:only-of-type {\n",
       "        vertical-align: middle;\n",
       "    }\n",
       "\n",
       "    .dataframe tbody tr th {\n",
       "        vertical-align: top;\n",
       "    }\n",
       "\n",
       "    .dataframe thead th {\n",
       "        text-align: right;\n",
       "    }\n",
       "</style>\n",
       "<table border=\"1\" class=\"dataframe\">\n",
       "  <thead>\n",
       "    <tr style=\"text-align: right;\">\n",
       "      <th></th>\n",
       "      <th>UserId</th>\n",
       "      <th>Rating</th>\n",
       "      <th>Timestamp</th>\n",
       "      <th>B0000YUXI0</th>\n",
       "      <th>B0009V1YR8</th>\n",
       "      <th>B000FS05VG</th>\n",
       "      <th>B000ZMBSPE</th>\n",
       "      <th>B00121UVU0</th>\n",
       "      <th>B001MA0QY2</th>\n",
       "      <th>B003BQ6QXK</th>\n",
       "      <th>B003V265QW</th>\n",
       "      <th>B0043OYFKU</th>\n",
       "      <th>B004OHQR1Q</th>\n",
       "    </tr>\n",
       "    <tr>\n",
       "      <th>date</th>\n",
       "      <th></th>\n",
       "      <th></th>\n",
       "      <th></th>\n",
       "      <th></th>\n",
       "      <th></th>\n",
       "      <th></th>\n",
       "      <th></th>\n",
       "      <th></th>\n",
       "      <th></th>\n",
       "      <th></th>\n",
       "      <th></th>\n",
       "      <th></th>\n",
       "      <th></th>\n",
       "    </tr>\n",
       "  </thead>\n",
       "  <tbody>\n",
       "    <tr>\n",
       "      <th>2014-07-19</th>\n",
       "      <td>A1XN3ED4PWKGEV</td>\n",
       "      <td>5.0</td>\n",
       "      <td>1405728000</td>\n",
       "      <td>1</td>\n",
       "      <td>0</td>\n",
       "      <td>0</td>\n",
       "      <td>0</td>\n",
       "      <td>0</td>\n",
       "      <td>0</td>\n",
       "      <td>0</td>\n",
       "      <td>0</td>\n",
       "      <td>0</td>\n",
       "      <td>0</td>\n",
       "    </tr>\n",
       "    <tr>\n",
       "      <th>2014-07-13</th>\n",
       "      <td>A2S9IZO7K6FL2</td>\n",
       "      <td>5.0</td>\n",
       "      <td>1405209600</td>\n",
       "      <td>1</td>\n",
       "      <td>0</td>\n",
       "      <td>0</td>\n",
       "      <td>0</td>\n",
       "      <td>0</td>\n",
       "      <td>0</td>\n",
       "      <td>0</td>\n",
       "      <td>0</td>\n",
       "      <td>0</td>\n",
       "      <td>0</td>\n",
       "    </tr>\n",
       "    <tr>\n",
       "      <th>2014-07-15</th>\n",
       "      <td>A2PA7TJ0IQ1ZM5</td>\n",
       "      <td>5.0</td>\n",
       "      <td>1405382400</td>\n",
       "      <td>1</td>\n",
       "      <td>0</td>\n",
       "      <td>0</td>\n",
       "      <td>0</td>\n",
       "      <td>0</td>\n",
       "      <td>0</td>\n",
       "      <td>0</td>\n",
       "      <td>0</td>\n",
       "      <td>0</td>\n",
       "      <td>0</td>\n",
       "    </tr>\n",
       "    <tr>\n",
       "      <th>2014-07-18</th>\n",
       "      <td>ACU4QE52SKN9X</td>\n",
       "      <td>4.0</td>\n",
       "      <td>1405641600</td>\n",
       "      <td>1</td>\n",
       "      <td>0</td>\n",
       "      <td>0</td>\n",
       "      <td>0</td>\n",
       "      <td>0</td>\n",
       "      <td>0</td>\n",
       "      <td>0</td>\n",
       "      <td>0</td>\n",
       "      <td>0</td>\n",
       "      <td>0</td>\n",
       "    </tr>\n",
       "    <tr>\n",
       "      <th>2014-07-18</th>\n",
       "      <td>APWWW0M6ITEB5</td>\n",
       "      <td>5.0</td>\n",
       "      <td>1405641600</td>\n",
       "      <td>1</td>\n",
       "      <td>0</td>\n",
       "      <td>0</td>\n",
       "      <td>0</td>\n",
       "      <td>0</td>\n",
       "      <td>0</td>\n",
       "      <td>0</td>\n",
       "      <td>0</td>\n",
       "      <td>0</td>\n",
       "      <td>0</td>\n",
       "    </tr>\n",
       "    <tr>\n",
       "      <th>...</th>\n",
       "      <td>...</td>\n",
       "      <td>...</td>\n",
       "      <td>...</td>\n",
       "      <td>...</td>\n",
       "      <td>...</td>\n",
       "      <td>...</td>\n",
       "      <td>...</td>\n",
       "      <td>...</td>\n",
       "      <td>...</td>\n",
       "      <td>...</td>\n",
       "      <td>...</td>\n",
       "      <td>...</td>\n",
       "      <td>...</td>\n",
       "    </tr>\n",
       "    <tr>\n",
       "      <th>2013-07-05</th>\n",
       "      <td>A20GXHWQTP25F3</td>\n",
       "      <td>5.0</td>\n",
       "      <td>1372982400</td>\n",
       "      <td>0</td>\n",
       "      <td>0</td>\n",
       "      <td>0</td>\n",
       "      <td>0</td>\n",
       "      <td>0</td>\n",
       "      <td>0</td>\n",
       "      <td>0</td>\n",
       "      <td>0</td>\n",
       "      <td>0</td>\n",
       "      <td>1</td>\n",
       "    </tr>\n",
       "    <tr>\n",
       "      <th>2012-08-09</th>\n",
       "      <td>ANGJ5BUZ1H1DP</td>\n",
       "      <td>4.0</td>\n",
       "      <td>1344470400</td>\n",
       "      <td>0</td>\n",
       "      <td>0</td>\n",
       "      <td>0</td>\n",
       "      <td>0</td>\n",
       "      <td>0</td>\n",
       "      <td>0</td>\n",
       "      <td>0</td>\n",
       "      <td>0</td>\n",
       "      <td>0</td>\n",
       "      <td>1</td>\n",
       "    </tr>\n",
       "    <tr>\n",
       "      <th>2013-07-08</th>\n",
       "      <td>A3AHRHD38SY22E</td>\n",
       "      <td>5.0</td>\n",
       "      <td>1373241600</td>\n",
       "      <td>0</td>\n",
       "      <td>0</td>\n",
       "      <td>0</td>\n",
       "      <td>0</td>\n",
       "      <td>0</td>\n",
       "      <td>0</td>\n",
       "      <td>0</td>\n",
       "      <td>0</td>\n",
       "      <td>0</td>\n",
       "      <td>1</td>\n",
       "    </tr>\n",
       "    <tr>\n",
       "      <th>2013-07-16</th>\n",
       "      <td>A1OHOGJK6QJJZP</td>\n",
       "      <td>5.0</td>\n",
       "      <td>1373932800</td>\n",
       "      <td>0</td>\n",
       "      <td>0</td>\n",
       "      <td>0</td>\n",
       "      <td>0</td>\n",
       "      <td>0</td>\n",
       "      <td>0</td>\n",
       "      <td>0</td>\n",
       "      <td>0</td>\n",
       "      <td>0</td>\n",
       "      <td>1</td>\n",
       "    </tr>\n",
       "    <tr>\n",
       "      <th>2013-09-28</th>\n",
       "      <td>A3DX0FASNOPYK</td>\n",
       "      <td>4.0</td>\n",
       "      <td>1380326400</td>\n",
       "      <td>0</td>\n",
       "      <td>0</td>\n",
       "      <td>0</td>\n",
       "      <td>0</td>\n",
       "      <td>0</td>\n",
       "      <td>0</td>\n",
       "      <td>0</td>\n",
       "      <td>0</td>\n",
       "      <td>0</td>\n",
       "      <td>1</td>\n",
       "    </tr>\n",
       "  </tbody>\n",
       "</table>\n",
       "<p>26381 rows × 13 columns</p>\n",
       "</div>"
      ],
      "text/plain": [
       "                    UserId  Rating   Timestamp  B0000YUXI0  B0009V1YR8  \\\n",
       "date                                                                     \n",
       "2014-07-19  A1XN3ED4PWKGEV     5.0  1405728000           1           0   \n",
       "2014-07-13   A2S9IZO7K6FL2     5.0  1405209600           1           0   \n",
       "2014-07-15  A2PA7TJ0IQ1ZM5     5.0  1405382400           1           0   \n",
       "2014-07-18   ACU4QE52SKN9X     4.0  1405641600           1           0   \n",
       "2014-07-18   APWWW0M6ITEB5     5.0  1405641600           1           0   \n",
       "...                    ...     ...         ...         ...         ...   \n",
       "2013-07-05  A20GXHWQTP25F3     5.0  1372982400           0           0   \n",
       "2012-08-09   ANGJ5BUZ1H1DP     4.0  1344470400           0           0   \n",
       "2013-07-08  A3AHRHD38SY22E     5.0  1373241600           0           0   \n",
       "2013-07-16  A1OHOGJK6QJJZP     5.0  1373932800           0           0   \n",
       "2013-09-28   A3DX0FASNOPYK     4.0  1380326400           0           0   \n",
       "\n",
       "            B000FS05VG  B000ZMBSPE  B00121UVU0  B001MA0QY2  B003BQ6QXK  \\\n",
       "date                                                                     \n",
       "2014-07-19           0           0           0           0           0   \n",
       "2014-07-13           0           0           0           0           0   \n",
       "2014-07-15           0           0           0           0           0   \n",
       "2014-07-18           0           0           0           0           0   \n",
       "2014-07-18           0           0           0           0           0   \n",
       "...                ...         ...         ...         ...         ...   \n",
       "2013-07-05           0           0           0           0           0   \n",
       "2012-08-09           0           0           0           0           0   \n",
       "2013-07-08           0           0           0           0           0   \n",
       "2013-07-16           0           0           0           0           0   \n",
       "2013-09-28           0           0           0           0           0   \n",
       "\n",
       "            B003V265QW  B0043OYFKU  B004OHQR1Q  \n",
       "date                                            \n",
       "2014-07-19           0           0           0  \n",
       "2014-07-13           0           0           0  \n",
       "2014-07-15           0           0           0  \n",
       "2014-07-18           0           0           0  \n",
       "2014-07-18           0           0           0  \n",
       "...                ...         ...         ...  \n",
       "2013-07-05           0           0           1  \n",
       "2012-08-09           0           0           1  \n",
       "2013-07-08           0           0           1  \n",
       "2013-07-16           0           0           1  \n",
       "2013-09-28           0           0           1  \n",
       "\n",
       "[26381 rows x 13 columns]"
      ]
     },
     "execution_count": 32,
     "metadata": {},
     "output_type": "execute_result"
    }
   ],
   "source": [
    "# toPlot=filtred_data.pivot_table( index='date',columns=['ProductId'],\n",
    "#                       aggfunc='count',fill_value=0)\n",
    "# toPlot\n",
    "products_occ=pd.get_dummies(filtred_data,columns=['ProductId'], prefix_sep='',prefix='')\n",
    "products_occ"
   ]
  },
  {
   "cell_type": "code",
   "execution_count": 33,
   "id": "8cd82e40",
   "metadata": {},
   "outputs": [
    {
     "data": {
      "text/html": [
       "<div>\n",
       "<style scoped>\n",
       "    .dataframe tbody tr th:only-of-type {\n",
       "        vertical-align: middle;\n",
       "    }\n",
       "\n",
       "    .dataframe tbody tr th {\n",
       "        vertical-align: top;\n",
       "    }\n",
       "\n",
       "    .dataframe thead th {\n",
       "        text-align: right;\n",
       "    }\n",
       "</style>\n",
       "<table border=\"1\" class=\"dataframe\">\n",
       "  <thead>\n",
       "    <tr style=\"text-align: right;\">\n",
       "      <th></th>\n",
       "      <th>B0000YUXI0</th>\n",
       "      <th>B0009V1YR8</th>\n",
       "      <th>B000FS05VG</th>\n",
       "      <th>B000ZMBSPE</th>\n",
       "      <th>B00121UVU0</th>\n",
       "      <th>B001MA0QY2</th>\n",
       "      <th>B003BQ6QXK</th>\n",
       "      <th>B003V265QW</th>\n",
       "      <th>B0043OYFKU</th>\n",
       "      <th>B004OHQR1Q</th>\n",
       "    </tr>\n",
       "    <tr>\n",
       "      <th>date</th>\n",
       "      <th></th>\n",
       "      <th></th>\n",
       "      <th></th>\n",
       "      <th></th>\n",
       "      <th></th>\n",
       "      <th></th>\n",
       "      <th></th>\n",
       "      <th></th>\n",
       "      <th></th>\n",
       "      <th></th>\n",
       "    </tr>\n",
       "  </thead>\n",
       "  <tbody>\n",
       "    <tr>\n",
       "      <th>2005-04-23</th>\n",
       "      <td>1</td>\n",
       "      <td>1</td>\n",
       "      <td>0</td>\n",
       "      <td>0</td>\n",
       "      <td>0</td>\n",
       "      <td>0</td>\n",
       "      <td>0</td>\n",
       "      <td>0</td>\n",
       "      <td>0</td>\n",
       "      <td>0</td>\n",
       "    </tr>\n",
       "    <tr>\n",
       "      <th>2005-05-14</th>\n",
       "      <td>1</td>\n",
       "      <td>0</td>\n",
       "      <td>0</td>\n",
       "      <td>0</td>\n",
       "      <td>0</td>\n",
       "      <td>0</td>\n",
       "      <td>0</td>\n",
       "      <td>0</td>\n",
       "      <td>0</td>\n",
       "      <td>0</td>\n",
       "    </tr>\n",
       "    <tr>\n",
       "      <th>2005-05-19</th>\n",
       "      <td>0</td>\n",
       "      <td>0</td>\n",
       "      <td>0</td>\n",
       "      <td>1</td>\n",
       "      <td>0</td>\n",
       "      <td>0</td>\n",
       "      <td>0</td>\n",
       "      <td>0</td>\n",
       "      <td>0</td>\n",
       "      <td>0</td>\n",
       "    </tr>\n",
       "    <tr>\n",
       "      <th>2005-05-26</th>\n",
       "      <td>1</td>\n",
       "      <td>0</td>\n",
       "      <td>0</td>\n",
       "      <td>0</td>\n",
       "      <td>0</td>\n",
       "      <td>0</td>\n",
       "      <td>0</td>\n",
       "      <td>0</td>\n",
       "      <td>0</td>\n",
       "      <td>0</td>\n",
       "    </tr>\n",
       "    <tr>\n",
       "      <th>2005-06-03</th>\n",
       "      <td>1</td>\n",
       "      <td>0</td>\n",
       "      <td>0</td>\n",
       "      <td>0</td>\n",
       "      <td>0</td>\n",
       "      <td>0</td>\n",
       "      <td>0</td>\n",
       "      <td>0</td>\n",
       "      <td>0</td>\n",
       "      <td>0</td>\n",
       "    </tr>\n",
       "    <tr>\n",
       "      <th>...</th>\n",
       "      <td>...</td>\n",
       "      <td>...</td>\n",
       "      <td>...</td>\n",
       "      <td>...</td>\n",
       "      <td>...</td>\n",
       "      <td>...</td>\n",
       "      <td>...</td>\n",
       "      <td>...</td>\n",
       "      <td>...</td>\n",
       "      <td>...</td>\n",
       "    </tr>\n",
       "    <tr>\n",
       "      <th>2014-07-18</th>\n",
       "      <td>2</td>\n",
       "      <td>0</td>\n",
       "      <td>0</td>\n",
       "      <td>0</td>\n",
       "      <td>0</td>\n",
       "      <td>3</td>\n",
       "      <td>0</td>\n",
       "      <td>1</td>\n",
       "      <td>0</td>\n",
       "      <td>1</td>\n",
       "    </tr>\n",
       "    <tr>\n",
       "      <th>2014-07-19</th>\n",
       "      <td>1</td>\n",
       "      <td>0</td>\n",
       "      <td>0</td>\n",
       "      <td>0</td>\n",
       "      <td>0</td>\n",
       "      <td>4</td>\n",
       "      <td>1</td>\n",
       "      <td>1</td>\n",
       "      <td>0</td>\n",
       "      <td>1</td>\n",
       "    </tr>\n",
       "    <tr>\n",
       "      <th>2014-07-20</th>\n",
       "      <td>0</td>\n",
       "      <td>0</td>\n",
       "      <td>0</td>\n",
       "      <td>0</td>\n",
       "      <td>0</td>\n",
       "      <td>2</td>\n",
       "      <td>0</td>\n",
       "      <td>0</td>\n",
       "      <td>0</td>\n",
       "      <td>0</td>\n",
       "    </tr>\n",
       "    <tr>\n",
       "      <th>2014-07-21</th>\n",
       "      <td>0</td>\n",
       "      <td>0</td>\n",
       "      <td>0</td>\n",
       "      <td>0</td>\n",
       "      <td>0</td>\n",
       "      <td>6</td>\n",
       "      <td>0</td>\n",
       "      <td>0</td>\n",
       "      <td>2</td>\n",
       "      <td>2</td>\n",
       "    </tr>\n",
       "    <tr>\n",
       "      <th>2014-07-22</th>\n",
       "      <td>0</td>\n",
       "      <td>1</td>\n",
       "      <td>0</td>\n",
       "      <td>0</td>\n",
       "      <td>1</td>\n",
       "      <td>5</td>\n",
       "      <td>0</td>\n",
       "      <td>1</td>\n",
       "      <td>1</td>\n",
       "      <td>2</td>\n",
       "    </tr>\n",
       "  </tbody>\n",
       "</table>\n",
       "<p>2571 rows × 10 columns</p>\n",
       "</div>"
      ],
      "text/plain": [
       "            B0000YUXI0  B0009V1YR8  B000FS05VG  B000ZMBSPE  B00121UVU0  \\\n",
       "date                                                                     \n",
       "2005-04-23           1           1           0           0           0   \n",
       "2005-05-14           1           0           0           0           0   \n",
       "2005-05-19           0           0           0           1           0   \n",
       "2005-05-26           1           0           0           0           0   \n",
       "2005-06-03           1           0           0           0           0   \n",
       "...                ...         ...         ...         ...         ...   \n",
       "2014-07-18           2           0           0           0           0   \n",
       "2014-07-19           1           0           0           0           0   \n",
       "2014-07-20           0           0           0           0           0   \n",
       "2014-07-21           0           0           0           0           0   \n",
       "2014-07-22           0           1           0           0           1   \n",
       "\n",
       "            B001MA0QY2  B003BQ6QXK  B003V265QW  B0043OYFKU  B004OHQR1Q  \n",
       "date                                                                    \n",
       "2005-04-23           0           0           0           0           0  \n",
       "2005-05-14           0           0           0           0           0  \n",
       "2005-05-19           0           0           0           0           0  \n",
       "2005-05-26           0           0           0           0           0  \n",
       "2005-06-03           0           0           0           0           0  \n",
       "...                ...         ...         ...         ...         ...  \n",
       "2014-07-18           3           0           1           0           1  \n",
       "2014-07-19           4           1           1           0           1  \n",
       "2014-07-20           2           0           0           0           0  \n",
       "2014-07-21           6           0           0           2           2  \n",
       "2014-07-22           5           0           1           1           2  \n",
       "\n",
       "[2571 rows x 10 columns]"
      ]
     },
     "execution_count": 33,
     "metadata": {},
     "output_type": "execute_result"
    }
   ],
   "source": [
    "products_occ.resample('M')\n",
    "toPlot=products_occ.drop(labels=['UserId','Rating','Timestamp'],axis=1).groupby('date').sum()\n",
    "toPlot"
   ]
  },
  {
   "cell_type": "code",
   "execution_count": 37,
   "id": "0b152894",
   "metadata": {},
   "outputs": [
    {
     "data": {
      "text/plain": [
       "<AxesSubplot:xlabel='date'>"
      ]
     },
     "execution_count": 37,
     "metadata": {},
     "output_type": "execute_result"
    },
    {
     "data": {
      "image/png": "[encoded data removed]",
      "text/plain": [
       "<Figure size 432x288 with 1 Axes>"
      ]
     },
     "metadata": {
      "needs_background": "light"
     },
     "output_type": "display_data"
    }
   ],
   "source": [
    "toPlot.iloc[-10:].plot()"
   ]
  }
 ],
 "metadata": {
  "kernelspec": {
   "display_name": "Python 3 (ipykernel)",
   "language": "python",
   "name": "python3"
  },
  "language_info": {
   "codemirror_mode": {
    "name": "ipython",
    "version": 3
   },
   "file_extension": ".py",
   "mimetype": "text/x-python",
   "name": "python",
   "nbconvert_exporter": "python",
   "pygments_lexer": "ipython3",
   "version": "3.9.7"
  }
 },
 "nbformat": 4,
 "nbformat_minor": 5
}
