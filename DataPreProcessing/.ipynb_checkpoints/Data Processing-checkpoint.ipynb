{
 "cells": [
  {
   "cell_type": "code",
   "execution_count": 1,
   "id": "36ef2287",
   "metadata": {},
   "outputs": [],
   "source": [
    "import numpy as np\n",
    "import pandas as pd\n",
    "import seaborn as sb\n",
    "import matplotlib.pyplot as plt\n",
    "from sklearn import datasets\n",
    "from sklearn.preprocessing import StandardScaler\n",
    "from sklearn.decomposition import PCA\n",
    "from sklearn.model_selection import KFold"
   ]
  },
  {
   "cell_type": "markdown",
   "id": "4a156903",
   "metadata": {},
   "source": [
    "# Exercice 1"
   ]
  },
  {
   "cell_type": "markdown",
   "id": "ce4f3aa9",
   "metadata": {},
   "source": [
    "## Create python script to manage these tables as data frames."
   ]
  },
  {
   "cell_type": "code",
   "execution_count": 2,
   "id": "b804c9c1",
   "metadata": {},
   "outputs": [],
   "source": [
    "table1 = pd.DataFrame({\n",
    "    'Company':['Djeezy','Mobilis'],\n",
    "    'N customers':[10000000,9000000],\n",
    "    'Rating mean':[7.5,4],\n",
    "    'year':[ 2018,2019]\n",
    "},index=[1,2])\n",
    "\n",
    "table2 = pd.DataFrame({\n",
    "    'Company':['Ooredoo','Mobilis'],\n",
    "    'N customers':[11000000,9000000],\n",
    "    'Rating mean':[8,4],\n",
    "    'year':[ 2020,2021]\n",
    "},index=[1,2])\n",
    "\n",
    "table3 = pd.DataFrame({\n",
    "    'Company':['Ooredoo','Mobilis','Ooredoo'],\n",
    "    'Expected revenues':['12000000 DA','10800000 DA','17000000 DA'],\n",
    "    'year':[ 2023,2023,2024]\n",
    "},index=[1,2,1])"
   ]
  },
  {
   "cell_type": "code",
   "execution_count": 3,
   "id": "88f2b955",
   "metadata": {},
   "outputs": [
    {
     "data": {
      "text/html": [
       "<div>\n",
       "<style scoped>\n",
       "    .dataframe tbody tr th:only-of-type {\n",
       "        vertical-align: middle;\n",
       "    }\n",
       "\n",
       "    .dataframe tbody tr th {\n",
       "        vertical-align: top;\n",
       "    }\n",
       "\n",
       "    .dataframe thead th {\n",
       "        text-align: right;\n",
       "    }\n",
       "</style>\n",
       "<table border=\"1\" class=\"dataframe\">\n",
       "  <thead>\n",
       "    <tr style=\"text-align: right;\">\n",
       "      <th></th>\n",
       "      <th>Company</th>\n",
       "      <th>N customers</th>\n",
       "      <th>Rating mean</th>\n",
       "      <th>year</th>\n",
       "    </tr>\n",
       "  </thead>\n",
       "  <tbody>\n",
       "    <tr>\n",
       "      <th>1</th>\n",
       "      <td>Djeezy</td>\n",
       "      <td>10000000</td>\n",
       "      <td>7.5</td>\n",
       "      <td>2018</td>\n",
       "    </tr>\n",
       "    <tr>\n",
       "      <th>2</th>\n",
       "      <td>Mobilis</td>\n",
       "      <td>9000000</td>\n",
       "      <td>4.0</td>\n",
       "      <td>2019</td>\n",
       "    </tr>\n",
       "  </tbody>\n",
       "</table>\n",
       "</div>"
      ],
      "text/plain": [
       "   Company  N customers  Rating mean  year\n",
       "1   Djeezy     10000000          7.5  2018\n",
       "2  Mobilis      9000000          4.0  2019"
      ]
     },
     "execution_count": 3,
     "metadata": {},
     "output_type": "execute_result"
    }
   ],
   "source": [
    "table1"
   ]
  },
  {
   "cell_type": "code",
   "execution_count": 4,
   "id": "76f670f3",
   "metadata": {},
   "outputs": [
    {
     "data": {
      "text/html": [
       "<div>\n",
       "<style scoped>\n",
       "    .dataframe tbody tr th:only-of-type {\n",
       "        vertical-align: middle;\n",
       "    }\n",
       "\n",
       "    .dataframe tbody tr th {\n",
       "        vertical-align: top;\n",
       "    }\n",
       "\n",
       "    .dataframe thead th {\n",
       "        text-align: right;\n",
       "    }\n",
       "</style>\n",
       "<table border=\"1\" class=\"dataframe\">\n",
       "  <thead>\n",
       "    <tr style=\"text-align: right;\">\n",
       "      <th></th>\n",
       "      <th>Company</th>\n",
       "      <th>N customers</th>\n",
       "      <th>Rating mean</th>\n",
       "      <th>year</th>\n",
       "    </tr>\n",
       "  </thead>\n",
       "  <tbody>\n",
       "    <tr>\n",
       "      <th>1</th>\n",
       "      <td>Ooredoo</td>\n",
       "      <td>11000000</td>\n",
       "      <td>8</td>\n",
       "      <td>2020</td>\n",
       "    </tr>\n",
       "    <tr>\n",
       "      <th>2</th>\n",
       "      <td>Mobilis</td>\n",
       "      <td>9000000</td>\n",
       "      <td>4</td>\n",
       "      <td>2021</td>\n",
       "    </tr>\n",
       "  </tbody>\n",
       "</table>\n",
       "</div>"
      ],
      "text/plain": [
       "   Company  N customers  Rating mean  year\n",
       "1  Ooredoo     11000000            8  2020\n",
       "2  Mobilis      9000000            4  2021"
      ]
     },
     "execution_count": 4,
     "metadata": {},
     "output_type": "execute_result"
    }
   ],
   "source": [
    "table2"
   ]
  },
  {
   "cell_type": "code",
   "execution_count": 5,
   "id": "e04f62ad",
   "metadata": {
    "scrolled": true
   },
   "outputs": [
    {
     "data": {
      "text/html": [
       "<div>\n",
       "<style scoped>\n",
       "    .dataframe tbody tr th:only-of-type {\n",
       "        vertical-align: middle;\n",
       "    }\n",
       "\n",
       "    .dataframe tbody tr th {\n",
       "        vertical-align: top;\n",
       "    }\n",
       "\n",
       "    .dataframe thead th {\n",
       "        text-align: right;\n",
       "    }\n",
       "</style>\n",
       "<table border=\"1\" class=\"dataframe\">\n",
       "  <thead>\n",
       "    <tr style=\"text-align: right;\">\n",
       "      <th></th>\n",
       "      <th>Company</th>\n",
       "      <th>Expected revenues</th>\n",
       "      <th>year</th>\n",
       "    </tr>\n",
       "  </thead>\n",
       "  <tbody>\n",
       "    <tr>\n",
       "      <th>1</th>\n",
       "      <td>Ooredoo</td>\n",
       "      <td>12000000 DA</td>\n",
       "      <td>2023</td>\n",
       "    </tr>\n",
       "    <tr>\n",
       "      <th>2</th>\n",
       "      <td>Mobilis</td>\n",
       "      <td>10800000 DA</td>\n",
       "      <td>2023</td>\n",
       "    </tr>\n",
       "    <tr>\n",
       "      <th>1</th>\n",
       "      <td>Ooredoo</td>\n",
       "      <td>17000000 DA</td>\n",
       "      <td>2024</td>\n",
       "    </tr>\n",
       "  </tbody>\n",
       "</table>\n",
       "</div>"
      ],
      "text/plain": [
       "   Company Expected revenues  year\n",
       "1  Ooredoo       12000000 DA  2023\n",
       "2  Mobilis       10800000 DA  2023\n",
       "1  Ooredoo       17000000 DA  2024"
      ]
     },
     "execution_count": 5,
     "metadata": {},
     "output_type": "execute_result"
    }
   ],
   "source": [
    "table3"
   ]
  },
  {
   "cell_type": "markdown",
   "id": "0157f178",
   "metadata": {},
   "source": [
    "## table1 and table 2 concat"
   ]
  },
  {
   "cell_type": "code",
   "execution_count": 6,
   "id": "78efea05",
   "metadata": {},
   "outputs": [
    {
     "data": {
      "text/html": [
       "<div>\n",
       "<style scoped>\n",
       "    .dataframe tbody tr th:only-of-type {\n",
       "        vertical-align: middle;\n",
       "    }\n",
       "\n",
       "    .dataframe tbody tr th {\n",
       "        vertical-align: top;\n",
       "    }\n",
       "\n",
       "    .dataframe thead th {\n",
       "        text-align: right;\n",
       "    }\n",
       "</style>\n",
       "<table border=\"1\" class=\"dataframe\">\n",
       "  <thead>\n",
       "    <tr style=\"text-align: right;\">\n",
       "      <th></th>\n",
       "      <th>Company</th>\n",
       "      <th>N customers</th>\n",
       "      <th>Rating mean</th>\n",
       "      <th>year</th>\n",
       "    </tr>\n",
       "  </thead>\n",
       "  <tbody>\n",
       "    <tr>\n",
       "      <th>1</th>\n",
       "      <td>Djeezy</td>\n",
       "      <td>10000000</td>\n",
       "      <td>7.5</td>\n",
       "      <td>2018</td>\n",
       "    </tr>\n",
       "    <tr>\n",
       "      <th>2</th>\n",
       "      <td>Mobilis</td>\n",
       "      <td>9000000</td>\n",
       "      <td>4.0</td>\n",
       "      <td>2019</td>\n",
       "    </tr>\n",
       "    <tr>\n",
       "      <th>1</th>\n",
       "      <td>Ooredoo</td>\n",
       "      <td>11000000</td>\n",
       "      <td>8.0</td>\n",
       "      <td>2020</td>\n",
       "    </tr>\n",
       "    <tr>\n",
       "      <th>2</th>\n",
       "      <td>Mobilis</td>\n",
       "      <td>9000000</td>\n",
       "      <td>4.0</td>\n",
       "      <td>2021</td>\n",
       "    </tr>\n",
       "  </tbody>\n",
       "</table>\n",
       "</div>"
      ],
      "text/plain": [
       "   Company  N customers  Rating mean  year\n",
       "1   Djeezy     10000000          7.5  2018\n",
       "2  Mobilis      9000000          4.0  2019\n",
       "1  Ooredoo     11000000          8.0  2020\n",
       "2  Mobilis      9000000          4.0  2021"
      ]
     },
     "execution_count": 6,
     "metadata": {},
     "output_type": "execute_result"
    }
   ],
   "source": [
    "all_inf = pd.concat([table1,table2])\n",
    "all_inf"
   ]
  },
  {
   "cell_type": "code",
   "execution_count": 7,
   "id": "dab1f603",
   "metadata": {},
   "outputs": [
    {
     "data": {
      "text/html": [
       "<div>\n",
       "<style scoped>\n",
       "    .dataframe tbody tr th:only-of-type {\n",
       "        vertical-align: middle;\n",
       "    }\n",
       "\n",
       "    .dataframe tbody tr th {\n",
       "        vertical-align: top;\n",
       "    }\n",
       "\n",
       "    .dataframe thead th {\n",
       "        text-align: right;\n",
       "    }\n",
       "</style>\n",
       "<table border=\"1\" class=\"dataframe\">\n",
       "  <thead>\n",
       "    <tr style=\"text-align: right;\">\n",
       "      <th></th>\n",
       "      <th>Company</th>\n",
       "      <th>N customers</th>\n",
       "      <th>Rating mean</th>\n",
       "      <th>year</th>\n",
       "    </tr>\n",
       "  </thead>\n",
       "  <tbody>\n",
       "    <tr>\n",
       "      <th>1</th>\n",
       "      <td>Djeezy</td>\n",
       "      <td>10000000</td>\n",
       "      <td>7.5</td>\n",
       "      <td>2018</td>\n",
       "    </tr>\n",
       "    <tr>\n",
       "      <th>1</th>\n",
       "      <td>Ooredoo</td>\n",
       "      <td>11000000</td>\n",
       "      <td>8.0</td>\n",
       "      <td>2020</td>\n",
       "    </tr>\n",
       "    <tr>\n",
       "      <th>2</th>\n",
       "      <td>Mobilis</td>\n",
       "      <td>9000000</td>\n",
       "      <td>4.0</td>\n",
       "      <td>2021</td>\n",
       "    </tr>\n",
       "  </tbody>\n",
       "</table>\n",
       "</div>"
      ],
      "text/plain": [
       "   Company  N customers  Rating mean  year\n",
       "1   Djeezy     10000000          7.5  2018\n",
       "1  Ooredoo     11000000          8.0  2020\n",
       "2  Mobilis      9000000          4.0  2021"
      ]
     },
     "execution_count": 7,
     "metadata": {},
     "output_type": "execute_result"
    }
   ],
   "source": [
    "sorted_all_inf_by_time = all_inf.sort_values(by=['year'])\n",
    "recent_inf = sorted_all_inf_by_time.drop_duplicates(subset='Company',keep='last')\n",
    "recent_inf"
   ]
  },
  {
   "cell_type": "code",
   "execution_count": 8,
   "id": "97138efd",
   "metadata": {},
   "outputs": [
    {
     "data": {
      "text/plain": [
       "4"
      ]
     },
     "execution_count": 8,
     "metadata": {},
     "output_type": "execute_result"
    }
   ],
   "source": [
    "keep_name_n_customers = all_inf.loc[:,[\"Company\",'N customers']].drop_duplicates()\n",
    "4"
   ]
  },
  {
   "cell_type": "markdown",
   "id": "00c80433",
   "metadata": {},
   "source": [
    "## Megin table 3"
   ]
  },
  {
   "cell_type": "code",
   "execution_count": 9,
   "id": "b39aa36e",
   "metadata": {},
   "outputs": [
    {
     "data": {
      "text/html": [
       "<div>\n",
       "<style scoped>\n",
       "    .dataframe tbody tr th:only-of-type {\n",
       "        vertical-align: middle;\n",
       "    }\n",
       "\n",
       "    .dataframe tbody tr th {\n",
       "        vertical-align: top;\n",
       "    }\n",
       "\n",
       "    .dataframe thead th {\n",
       "        text-align: right;\n",
       "    }\n",
       "</style>\n",
       "<table border=\"1\" class=\"dataframe\">\n",
       "  <thead>\n",
       "    <tr style=\"text-align: right;\">\n",
       "      <th></th>\n",
       "      <th>Company</th>\n",
       "      <th>N customers</th>\n",
       "      <th>Rating mean</th>\n",
       "      <th>year</th>\n",
       "      <th>Expected revenues</th>\n",
       "    </tr>\n",
       "  </thead>\n",
       "  <tbody>\n",
       "  </tbody>\n",
       "</table>\n",
       "</div>"
      ],
      "text/plain": [
       "Empty DataFrame\n",
       "Columns: [Company, N customers, Rating mean, year, Expected revenues]\n",
       "Index: []"
      ]
     },
     "execution_count": 9,
     "metadata": {},
     "output_type": "execute_result"
    }
   ],
   "source": [
    "mergin_respect_year_company=all_inf.merge(table3,left_on=['Company','year'],right_on=['Company','year'])\n",
    "mergin_respect_year_company"
   ]
  },
  {
   "cell_type": "code",
   "execution_count": 10,
   "id": "6d99cde2",
   "metadata": {},
   "outputs": [
    {
     "data": {
      "text/html": [
       "<div>\n",
       "<style scoped>\n",
       "    .dataframe tbody tr th:only-of-type {\n",
       "        vertical-align: middle;\n",
       "    }\n",
       "\n",
       "    .dataframe tbody tr th {\n",
       "        vertical-align: top;\n",
       "    }\n",
       "\n",
       "    .dataframe thead th {\n",
       "        text-align: right;\n",
       "    }\n",
       "</style>\n",
       "<table border=\"1\" class=\"dataframe\">\n",
       "  <thead>\n",
       "    <tr style=\"text-align: right;\">\n",
       "      <th></th>\n",
       "      <th>Company</th>\n",
       "      <th>N customers</th>\n",
       "      <th>Rating mean</th>\n",
       "      <th>year_x</th>\n",
       "      <th>Expected revenues</th>\n",
       "      <th>year_y</th>\n",
       "    </tr>\n",
       "  </thead>\n",
       "  <tbody>\n",
       "    <tr>\n",
       "      <th>0</th>\n",
       "      <td>Ooredoo</td>\n",
       "      <td>11000000</td>\n",
       "      <td>8.0</td>\n",
       "      <td>2020</td>\n",
       "      <td>12000000 DA</td>\n",
       "      <td>2023</td>\n",
       "    </tr>\n",
       "    <tr>\n",
       "      <th>1</th>\n",
       "      <td>Ooredoo</td>\n",
       "      <td>11000000</td>\n",
       "      <td>8.0</td>\n",
       "      <td>2020</td>\n",
       "      <td>17000000 DA</td>\n",
       "      <td>2024</td>\n",
       "    </tr>\n",
       "    <tr>\n",
       "      <th>2</th>\n",
       "      <td>Mobilis</td>\n",
       "      <td>9000000</td>\n",
       "      <td>4.0</td>\n",
       "      <td>2021</td>\n",
       "      <td>10800000 DA</td>\n",
       "      <td>2023</td>\n",
       "    </tr>\n",
       "  </tbody>\n",
       "</table>\n",
       "</div>"
      ],
      "text/plain": [
       "   Company  N customers  Rating mean  year_x Expected revenues  year_y\n",
       "0  Ooredoo     11000000          8.0    2020       12000000 DA    2023\n",
       "1  Ooredoo     11000000          8.0    2020       17000000 DA    2024\n",
       "2  Mobilis      9000000          4.0    2021       10800000 DA    2023"
      ]
     },
     "execution_count": 10,
     "metadata": {},
     "output_type": "execute_result"
    }
   ],
   "source": [
    "mergin_respect_company=recent_inf.merge(table3,left_on='Company',right_on='Company')\n",
    "mergin_respect_company"
   ]
  },
  {
   "cell_type": "markdown",
   "id": "a7f0868c",
   "metadata": {},
   "source": [
    "## For the available information, draw a graph representing the company, the year, and the expected revenues of each."
   ]
  },
  {
   "cell_type": "code",
   "execution_count": 11,
   "id": "b7d0c0de",
   "metadata": {},
   "outputs": [
    {
     "data": {
      "text/html": [
       "<div>\n",
       "<style scoped>\n",
       "    .dataframe tbody tr th:only-of-type {\n",
       "        vertical-align: middle;\n",
       "    }\n",
       "\n",
       "    .dataframe tbody tr th {\n",
       "        vertical-align: top;\n",
       "    }\n",
       "\n",
       "    .dataframe thead th {\n",
       "        text-align: right;\n",
       "    }\n",
       "</style>\n",
       "<table border=\"1\" class=\"dataframe\">\n",
       "  <thead>\n",
       "    <tr style=\"text-align: right;\">\n",
       "      <th></th>\n",
       "      <th>Company</th>\n",
       "      <th>year_x</th>\n",
       "      <th>year_y</th>\n",
       "      <th>Expected revenues</th>\n",
       "    </tr>\n",
       "  </thead>\n",
       "  <tbody>\n",
       "    <tr>\n",
       "      <th>0</th>\n",
       "      <td>Ooredoo</td>\n",
       "      <td>2020</td>\n",
       "      <td>2023</td>\n",
       "      <td>12000000 DA</td>\n",
       "    </tr>\n",
       "    <tr>\n",
       "      <th>1</th>\n",
       "      <td>Ooredoo</td>\n",
       "      <td>2020</td>\n",
       "      <td>2024</td>\n",
       "      <td>17000000 DA</td>\n",
       "    </tr>\n",
       "    <tr>\n",
       "      <th>2</th>\n",
       "      <td>Mobilis</td>\n",
       "      <td>2021</td>\n",
       "      <td>2023</td>\n",
       "      <td>10800000 DA</td>\n",
       "    </tr>\n",
       "  </tbody>\n",
       "</table>\n",
       "</div>"
      ],
      "text/plain": [
       "   Company  year_x  year_y Expected revenues\n",
       "0  Ooredoo    2020    2023       12000000 DA\n",
       "1  Ooredoo    2020    2024       17000000 DA\n",
       "2  Mobilis    2021    2023       10800000 DA"
      ]
     },
     "execution_count": 11,
     "metadata": {},
     "output_type": "execute_result"
    }
   ],
   "source": [
    "mergin_respect_company\n",
    "data2plot=mergin_respect_company.loc[:,[\"Company\",\"year_x\",\"year_y\",\"Expected revenues\"]]\n",
    "data2plot"
   ]
  },
  {
   "cell_type": "code",
   "execution_count": 12,
   "id": "a2931a98",
   "metadata": {},
   "outputs": [],
   "source": [
    "#turnig expected revenues to  numeric\n",
    "data2plot[\"Expected revenues\"] = data2plot[\"Expected revenues\"].map(lambda x : x.split(' ')[0]).astype('float')"
   ]
  },
  {
   "cell_type": "code",
   "execution_count": 13,
   "id": "c31f1edc",
   "metadata": {},
   "outputs": [
    {
     "data": {
      "text/html": [
       "<div>\n",
       "<style scoped>\n",
       "    .dataframe tbody tr th:only-of-type {\n",
       "        vertical-align: middle;\n",
       "    }\n",
       "\n",
       "    .dataframe tbody tr th {\n",
       "        vertical-align: top;\n",
       "    }\n",
       "\n",
       "    .dataframe thead th {\n",
       "        text-align: right;\n",
       "    }\n",
       "</style>\n",
       "<table border=\"1\" class=\"dataframe\">\n",
       "  <thead>\n",
       "    <tr style=\"text-align: right;\">\n",
       "      <th>year_y</th>\n",
       "      <th>2023</th>\n",
       "      <th>2024</th>\n",
       "    </tr>\n",
       "    <tr>\n",
       "      <th>Company</th>\n",
       "      <th></th>\n",
       "      <th></th>\n",
       "    </tr>\n",
       "  </thead>\n",
       "  <tbody>\n",
       "    <tr>\n",
       "      <th>Mobilis</th>\n",
       "      <td>10800000.0</td>\n",
       "      <td>NaN</td>\n",
       "    </tr>\n",
       "    <tr>\n",
       "      <th>Ooredoo</th>\n",
       "      <td>12000000.0</td>\n",
       "      <td>17000000.0</td>\n",
       "    </tr>\n",
       "  </tbody>\n",
       "</table>\n",
       "</div>"
      ],
      "text/plain": [
       "year_y         2023        2024\n",
       "Company                        \n",
       "Mobilis  10800000.0         NaN\n",
       "Ooredoo  12000000.0  17000000.0"
      ]
     },
     "execution_count": 13,
     "metadata": {},
     "output_type": "execute_result"
    }
   ],
   "source": [
    "# reshaping data \n",
    "pivoted_data=data2plot.pivot(index=\"Company\",columns='year_y',values='Expected revenues')\n",
    "pivoted_data"
   ]
  },
  {
   "cell_type": "code",
   "execution_count": 20,
   "id": "79f3b709",
   "metadata": {},
   "outputs": [
    {
     "data": {
      "text/plain": [
       "2"
      ]
     },
     "execution_count": 20,
     "metadata": {},
     "output_type": "execute_result"
    }
   ],
   "source": [
    "pivoted_data.columns.size"
   ]
  },
  {
   "cell_type": "code",
   "execution_count": 15,
   "id": "03529b2d",
   "metadata": {},
   "outputs": [
    {
     "data": {
      "text/plain": [
       "Text(0, 0.5, 'Expected Revenues')"
      ]
     },
     "execution_count": 15,
     "metadata": {},
     "output_type": "execute_result"
    },
    {
     "data": {
      "image/png": "[encoded data removed]",
      "text/plain": [
       "<Figure size 432x288 with 1 Axes>"
      ]
     },
     "metadata": {
      "needs_background": "light"
     },
     "output_type": "display_data"
    }
   ],
   "source": [
    "#grouped bar plot\n",
    "ax = pivoted_data.plot(kind='bar')\n",
    "ax.set_ylabel('Expected Revenues')\n",
    "ax.set_xticks(pivoted_data.columns.size)"
   ]
  },
  {
   "cell_type": "markdown",
   "id": "be825e4d",
   "metadata": {},
   "source": [
    "# EX2"
   ]
  },
  {
   "cell_type": "markdown",
   "id": "e7dff6aa",
   "metadata": {},
   "source": [
    "## Let us consider the IRIS dataset (the CSV format). Implement using python the next statistical measures:"
   ]
  },
  {
   "cell_type": "code",
   "execution_count": null,
   "id": "bdf575a0",
   "metadata": {},
   "outputs": [],
   "source": [
    "iris_data = pd.read_csv('./Iris.csv')\n",
    "iris_data.head()"
   ]
  },
  {
   "cell_type": "markdown",
   "id": "45a6282e",
   "metadata": {},
   "source": [
    "## Min, max, mode, median, standard deviation.\n"
   ]
  },
  {
   "cell_type": "code",
   "execution_count": null,
   "id": "d241afc1",
   "metadata": {},
   "outputs": [],
   "source": [
    "iris_data.describe()"
   ]
  },
  {
   "cell_type": "code",
   "execution_count": null,
   "id": "589e668e",
   "metadata": {},
   "outputs": [],
   "source": [
    "def my_describe(data):\n",
    "  stat_df = pd.DataFrame({\n",
    "     'min':[data.loc[:,x].min() for x in data.columns],\n",
    "    'max':[data.loc[:,x].max() for x in data.columns],    \n",
    "  }, index=[x for x in data.columns ])\n",
    "  return stat_df"
   ]
  },
  {
   "cell_type": "code",
   "execution_count": null,
   "id": "444457b7",
   "metadata": {},
   "outputs": [],
   "source": [
    "my_describe(iris_data)"
   ]
  },
  {
   "cell_type": "markdown",
   "id": "1ea16047",
   "metadata": {},
   "source": [
    "## Normalize the data using Z-score."
   ]
  },
  {
   "cell_type": "code",
   "execution_count": null,
   "id": "29c9d497",
   "metadata": {},
   "outputs": [],
   "source": [
    "normalized_data = "
   ]
  },
  {
   "cell_type": "markdown",
   "id": "4323c13e",
   "metadata": {},
   "source": [
    "## Calculate the correlation table (correlation of each two variables.)."
   ]
  },
  {
   "cell_type": "code",
   "execution_count": null,
   "id": "42dc103e",
   "metadata": {},
   "outputs": [],
   "source": []
  },
  {
   "cell_type": "markdown",
   "id": "6490f3b9",
   "metadata": {},
   "source": [
    "# EX3"
   ]
  },
  {
   "cell_type": "code",
   "execution_count": null,
   "id": "95604a5a",
   "metadata": {},
   "outputs": [],
   "source": []
  }
 ],
 "metadata": {
  "kernelspec": {
   "display_name": "Python 3 (ipykernel)",
   "language": "python",
   "name": "python3"
  },
  "language_info": {
   "codemirror_mode": {
    "name": "ipython",
    "version": 3
   },
   "file_extension": ".py",
   "mimetype": "text/x-python",
   "name": "python",
   "nbconvert_exporter": "python",
   "pygments_lexer": "ipython3",
   "version": "3.9.7"
  }
 },
 "nbformat": 4,
 "nbformat_minor": 5
}
